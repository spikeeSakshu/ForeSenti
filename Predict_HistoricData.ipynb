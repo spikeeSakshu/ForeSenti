{
 "cells": [
  {
   "cell_type": "code",
   "execution_count": 1,
   "metadata": {},
   "outputs": [
    {
     "name": "stderr",
     "output_type": "stream",
     "text": [
      "Using TensorFlow backend.\n"
     ]
    }
   ],
   "source": [
    "import pandas as pd\n",
    "import numpy as np\n",
    "%matplotlib inline\n",
    "import matplotlib.pyplot as plt\n",
    "import matplotlib\n",
    "from sklearn.preprocessing import MinMaxScaler\n",
    "from keras.layers import LSTM,Dense,Dropout\n",
    "from sklearn.model_selection import TimeSeriesSplit\n",
    "from sklearn.metrics import mean_squared_error, r2_score\n",
    "import matplotlib.dates as mdates\n",
    "from sklearn import linear_model"
   ]
  },
  {
   "cell_type": "code",
   "execution_count": 3,
   "metadata": {},
   "outputs": [
    {
     "data": {
      "text/html": [
       "<div>\n",
       "<style scoped>\n",
       "    .dataframe tbody tr th:only-of-type {\n",
       "        vertical-align: middle;\n",
       "    }\n",
       "\n",
       "    .dataframe tbody tr th {\n",
       "        vertical-align: top;\n",
       "    }\n",
       "\n",
       "    .dataframe thead th {\n",
       "        text-align: right;\n",
       "    }\n",
       "</style>\n",
       "<table border=\"1\" class=\"dataframe\">\n",
       "  <thead>\n",
       "    <tr style=\"text-align: right;\">\n",
       "      <th></th>\n",
       "      <th>Symbol</th>\n",
       "      <th>Series</th>\n",
       "      <th>Prev Close</th>\n",
       "      <th>Open</th>\n",
       "      <th>High</th>\n",
       "      <th>Low</th>\n",
       "      <th>Last</th>\n",
       "      <th>Close</th>\n",
       "      <th>VWAP</th>\n",
       "      <th>Volume</th>\n",
       "      <th>Turnover</th>\n",
       "      <th>Trades</th>\n",
       "      <th>Deliverable Volume</th>\n",
       "      <th>%Deliverble</th>\n",
       "      <th>Date.1</th>\n",
       "    </tr>\n",
       "    <tr>\n",
       "      <th>Date</th>\n",
       "      <th></th>\n",
       "      <th></th>\n",
       "      <th></th>\n",
       "      <th></th>\n",
       "      <th></th>\n",
       "      <th></th>\n",
       "      <th></th>\n",
       "      <th></th>\n",
       "      <th></th>\n",
       "      <th></th>\n",
       "      <th></th>\n",
       "      <th></th>\n",
       "      <th></th>\n",
       "      <th></th>\n",
       "      <th></th>\n",
       "    </tr>\n",
       "  </thead>\n",
       "  <tbody>\n",
       "    <tr>\n",
       "      <th>2019-11-19</th>\n",
       "      <td>TATAMOTORS</td>\n",
       "      <td>EQ</td>\n",
       "      <td>170.10</td>\n",
       "      <td>170.80</td>\n",
       "      <td>171.75</td>\n",
       "      <td>167.10</td>\n",
       "      <td>167.90</td>\n",
       "      <td>167.75</td>\n",
       "      <td>168.80</td>\n",
       "      <td>19599195</td>\n",
       "      <td>3.308411e+14</td>\n",
       "      <td>93852.0</td>\n",
       "      <td>4044634</td>\n",
       "      <td>0.2064</td>\n",
       "      <td>2019-11-19</td>\n",
       "    </tr>\n",
       "    <tr>\n",
       "      <th>2019-11-20</th>\n",
       "      <td>TATAMOTORS</td>\n",
       "      <td>EQ</td>\n",
       "      <td>167.75</td>\n",
       "      <td>167.75</td>\n",
       "      <td>170.20</td>\n",
       "      <td>166.20</td>\n",
       "      <td>167.30</td>\n",
       "      <td>167.40</td>\n",
       "      <td>168.21</td>\n",
       "      <td>19504078</td>\n",
       "      <td>3.280718e+14</td>\n",
       "      <td>82289.0</td>\n",
       "      <td>2804012</td>\n",
       "      <td>0.1438</td>\n",
       "      <td>2019-11-20</td>\n",
       "    </tr>\n",
       "    <tr>\n",
       "      <th>2019-11-21</th>\n",
       "      <td>TATAMOTORS</td>\n",
       "      <td>EQ</td>\n",
       "      <td>167.40</td>\n",
       "      <td>166.95</td>\n",
       "      <td>170.10</td>\n",
       "      <td>163.00</td>\n",
       "      <td>164.30</td>\n",
       "      <td>164.15</td>\n",
       "      <td>166.91</td>\n",
       "      <td>21609120</td>\n",
       "      <td>3.606878e+14</td>\n",
       "      <td>105085.0</td>\n",
       "      <td>3277278</td>\n",
       "      <td>0.1517</td>\n",
       "      <td>2019-11-21</td>\n",
       "    </tr>\n",
       "    <tr>\n",
       "      <th>2019-11-22</th>\n",
       "      <td>TATAMOTORS</td>\n",
       "      <td>EQ</td>\n",
       "      <td>164.15</td>\n",
       "      <td>164.90</td>\n",
       "      <td>165.25</td>\n",
       "      <td>160.55</td>\n",
       "      <td>162.25</td>\n",
       "      <td>162.35</td>\n",
       "      <td>162.25</td>\n",
       "      <td>21200979</td>\n",
       "      <td>3.439810e+14</td>\n",
       "      <td>104018.0</td>\n",
       "      <td>3839460</td>\n",
       "      <td>0.1811</td>\n",
       "      <td>2019-11-22</td>\n",
       "    </tr>\n",
       "    <tr>\n",
       "      <th>2019-11-25</th>\n",
       "      <td>TATAMOTORS</td>\n",
       "      <td>EQ</td>\n",
       "      <td>162.35</td>\n",
       "      <td>160.70</td>\n",
       "      <td>166.60</td>\n",
       "      <td>159.90</td>\n",
       "      <td>166.00</td>\n",
       "      <td>166.10</td>\n",
       "      <td>163.96</td>\n",
       "      <td>26131453</td>\n",
       "      <td>4.284384e+14</td>\n",
       "      <td>104799.0</td>\n",
       "      <td>3304961</td>\n",
       "      <td>0.1265</td>\n",
       "      <td>2019-11-25</td>\n",
       "    </tr>\n",
       "  </tbody>\n",
       "</table>\n",
       "</div>"
      ],
      "text/plain": [
       "                Symbol Series  Prev Close    Open    High     Low    Last  \\\n",
       "Date                                                                        \n",
       "2019-11-19  TATAMOTORS     EQ      170.10  170.80  171.75  167.10  167.90   \n",
       "2019-11-20  TATAMOTORS     EQ      167.75  167.75  170.20  166.20  167.30   \n",
       "2019-11-21  TATAMOTORS     EQ      167.40  166.95  170.10  163.00  164.30   \n",
       "2019-11-22  TATAMOTORS     EQ      164.15  164.90  165.25  160.55  162.25   \n",
       "2019-11-25  TATAMOTORS     EQ      162.35  160.70  166.60  159.90  166.00   \n",
       "\n",
       "             Close    VWAP    Volume      Turnover    Trades  \\\n",
       "Date                                                           \n",
       "2019-11-19  167.75  168.80  19599195  3.308411e+14   93852.0   \n",
       "2019-11-20  167.40  168.21  19504078  3.280718e+14   82289.0   \n",
       "2019-11-21  164.15  166.91  21609120  3.606878e+14  105085.0   \n",
       "2019-11-22  162.35  162.25  21200979  3.439810e+14  104018.0   \n",
       "2019-11-25  166.10  163.96  26131453  4.284384e+14  104799.0   \n",
       "\n",
       "            Deliverable Volume  %Deliverble      Date.1  \n",
       "Date                                                     \n",
       "2019-11-19             4044634       0.2064  2019-11-19  \n",
       "2019-11-20             2804012       0.1438  2019-11-20  \n",
       "2019-11-21             3277278       0.1517  2019-11-21  \n",
       "2019-11-22             3839460       0.1811  2019-11-22  \n",
       "2019-11-25             3304961       0.1265  2019-11-25  "
      ]
     },
     "execution_count": 3,
     "metadata": {},
     "output_type": "execute_result"
    }
   ],
   "source": [
    "df = pd.read_csv(\"Data/TATAMOTORS.csv\",na_values=['null'],index_col='Date',parse_dates=True,infer_datetime_format=True)\n",
    "df.tail()"
   ]
  },
  {
   "cell_type": "code",
   "execution_count": 4,
   "metadata": {},
   "outputs": [],
   "source": [
    "columns=['Prev Close','Open', 'High', 'Low', 'Close', 'Volume', 'Turnover']"
   ]
  },
  {
   "cell_type": "code",
   "execution_count": 5,
   "metadata": {},
   "outputs": [
    {
     "data": {
      "text/html": [
       "<div>\n",
       "<style scoped>\n",
       "    .dataframe tbody tr th:only-of-type {\n",
       "        vertical-align: middle;\n",
       "    }\n",
       "\n",
       "    .dataframe tbody tr th {\n",
       "        vertical-align: top;\n",
       "    }\n",
       "\n",
       "    .dataframe thead th {\n",
       "        text-align: right;\n",
       "    }\n",
       "</style>\n",
       "<table border=\"1\" class=\"dataframe\">\n",
       "  <thead>\n",
       "    <tr style=\"text-align: right;\">\n",
       "      <th></th>\n",
       "      <th>Prev Close</th>\n",
       "      <th>Open</th>\n",
       "      <th>High</th>\n",
       "      <th>Low</th>\n",
       "      <th>Close</th>\n",
       "      <th>Volume</th>\n",
       "      <th>Turnover</th>\n",
       "    </tr>\n",
       "    <tr>\n",
       "      <th>Date</th>\n",
       "      <th></th>\n",
       "      <th></th>\n",
       "      <th></th>\n",
       "      <th></th>\n",
       "      <th></th>\n",
       "      <th></th>\n",
       "      <th></th>\n",
       "    </tr>\n",
       "  </thead>\n",
       "  <tbody>\n",
       "    <tr>\n",
       "      <th>2019-11-19</th>\n",
       "      <td>170.10</td>\n",
       "      <td>170.80</td>\n",
       "      <td>171.75</td>\n",
       "      <td>167.10</td>\n",
       "      <td>167.75</td>\n",
       "      <td>19599195</td>\n",
       "      <td>3.308411e+14</td>\n",
       "    </tr>\n",
       "    <tr>\n",
       "      <th>2019-11-20</th>\n",
       "      <td>167.75</td>\n",
       "      <td>167.75</td>\n",
       "      <td>170.20</td>\n",
       "      <td>166.20</td>\n",
       "      <td>167.40</td>\n",
       "      <td>19504078</td>\n",
       "      <td>3.280718e+14</td>\n",
       "    </tr>\n",
       "    <tr>\n",
       "      <th>2019-11-21</th>\n",
       "      <td>167.40</td>\n",
       "      <td>166.95</td>\n",
       "      <td>170.10</td>\n",
       "      <td>163.00</td>\n",
       "      <td>164.15</td>\n",
       "      <td>21609120</td>\n",
       "      <td>3.606878e+14</td>\n",
       "    </tr>\n",
       "    <tr>\n",
       "      <th>2019-11-22</th>\n",
       "      <td>164.15</td>\n",
       "      <td>164.90</td>\n",
       "      <td>165.25</td>\n",
       "      <td>160.55</td>\n",
       "      <td>162.35</td>\n",
       "      <td>21200979</td>\n",
       "      <td>3.439810e+14</td>\n",
       "    </tr>\n",
       "    <tr>\n",
       "      <th>2019-11-25</th>\n",
       "      <td>162.35</td>\n",
       "      <td>160.70</td>\n",
       "      <td>166.60</td>\n",
       "      <td>159.90</td>\n",
       "      <td>166.10</td>\n",
       "      <td>26131453</td>\n",
       "      <td>4.284384e+14</td>\n",
       "    </tr>\n",
       "  </tbody>\n",
       "</table>\n",
       "</div>"
      ],
      "text/plain": [
       "            Prev Close    Open    High     Low   Close    Volume      Turnover\n",
       "Date                                                                          \n",
       "2019-11-19      170.10  170.80  171.75  167.10  167.75  19599195  3.308411e+14\n",
       "2019-11-20      167.75  167.75  170.20  166.20  167.40  19504078  3.280718e+14\n",
       "2019-11-21      167.40  166.95  170.10  163.00  164.15  21609120  3.606878e+14\n",
       "2019-11-22      164.15  164.90  165.25  160.55  162.35  21200979  3.439810e+14\n",
       "2019-11-25      162.35  160.70  166.60  159.90  166.10  26131453  4.284384e+14"
      ]
     },
     "execution_count": 5,
     "metadata": {},
     "output_type": "execute_result"
    }
   ],
   "source": [
    "df_final= df[columns]\n",
    "df_final.tail()"
   ]
  },
  {
   "cell_type": "code",
   "execution_count": 6,
   "metadata": {},
   "outputs": [
    {
     "data": {
      "text/html": [
       "<div>\n",
       "<style scoped>\n",
       "    .dataframe tbody tr th:only-of-type {\n",
       "        vertical-align: middle;\n",
       "    }\n",
       "\n",
       "    .dataframe tbody tr th {\n",
       "        vertical-align: top;\n",
       "    }\n",
       "\n",
       "    .dataframe thead th {\n",
       "        text-align: right;\n",
       "    }\n",
       "</style>\n",
       "<table border=\"1\" class=\"dataframe\">\n",
       "  <thead>\n",
       "    <tr style=\"text-align: right;\">\n",
       "      <th></th>\n",
       "      <th>Prev Close</th>\n",
       "      <th>Open</th>\n",
       "      <th>High</th>\n",
       "      <th>Low</th>\n",
       "      <th>Close</th>\n",
       "      <th>Volume</th>\n",
       "      <th>Turnover</th>\n",
       "    </tr>\n",
       "  </thead>\n",
       "  <tbody>\n",
       "    <tr>\n",
       "      <th>count</th>\n",
       "      <td>2716.000000</td>\n",
       "      <td>2716.000000</td>\n",
       "      <td>2716.000000</td>\n",
       "      <td>2716.000000</td>\n",
       "      <td>2716.00000</td>\n",
       "      <td>2.716000e+03</td>\n",
       "      <td>2.716000e+03</td>\n",
       "    </tr>\n",
       "    <tr>\n",
       "      <th>mean</th>\n",
       "      <td>450.325994</td>\n",
       "      <td>450.748454</td>\n",
       "      <td>457.904161</td>\n",
       "      <td>443.013641</td>\n",
       "      <td>450.34525</td>\n",
       "      <td>9.563685e+06</td>\n",
       "      <td>3.114246e+14</td>\n",
       "    </tr>\n",
       "    <tr>\n",
       "      <th>std</th>\n",
       "      <td>273.486830</td>\n",
       "      <td>273.813728</td>\n",
       "      <td>277.752411</td>\n",
       "      <td>269.326562</td>\n",
       "      <td>273.52239</td>\n",
       "      <td>1.109077e+07</td>\n",
       "      <td>2.281021e+14</td>\n",
       "    </tr>\n",
       "    <tr>\n",
       "      <th>min</th>\n",
       "      <td>107.700000</td>\n",
       "      <td>108.900000</td>\n",
       "      <td>111.600000</td>\n",
       "      <td>106.000000</td>\n",
       "      <td>107.70000</td>\n",
       "      <td>1.235100e+04</td>\n",
       "      <td>3.710208e+11</td>\n",
       "    </tr>\n",
       "    <tr>\n",
       "      <th>25%</th>\n",
       "      <td>270.025000</td>\n",
       "      <td>270.475000</td>\n",
       "      <td>274.975000</td>\n",
       "      <td>265.700000</td>\n",
       "      <td>270.02500</td>\n",
       "      <td>4.165382e+06</td>\n",
       "      <td>1.989609e+14</td>\n",
       "    </tr>\n",
       "    <tr>\n",
       "      <th>50%</th>\n",
       "      <td>388.175000</td>\n",
       "      <td>387.000000</td>\n",
       "      <td>393.300000</td>\n",
       "      <td>382.000000</td>\n",
       "      <td>388.17500</td>\n",
       "      <td>6.649906e+06</td>\n",
       "      <td>2.636573e+14</td>\n",
       "    </tr>\n",
       "    <tr>\n",
       "      <th>75%</th>\n",
       "      <td>517.912500</td>\n",
       "      <td>518.425000</td>\n",
       "      <td>524.425000</td>\n",
       "      <td>510.787500</td>\n",
       "      <td>517.91250</td>\n",
       "      <td>1.059023e+07</td>\n",
       "      <td>3.693935e+14</td>\n",
       "    </tr>\n",
       "    <tr>\n",
       "      <th>max</th>\n",
       "      <td>1365.150000</td>\n",
       "      <td>1361.000000</td>\n",
       "      <td>1382.000000</td>\n",
       "      <td>1347.000000</td>\n",
       "      <td>1365.15000</td>\n",
       "      <td>1.844356e+08</td>\n",
       "      <td>5.062943e+15</td>\n",
       "    </tr>\n",
       "  </tbody>\n",
       "</table>\n",
       "</div>"
      ],
      "text/plain": [
       "        Prev Close         Open         High          Low       Close  \\\n",
       "count  2716.000000  2716.000000  2716.000000  2716.000000  2716.00000   \n",
       "mean    450.325994   450.748454   457.904161   443.013641   450.34525   \n",
       "std     273.486830   273.813728   277.752411   269.326562   273.52239   \n",
       "min     107.700000   108.900000   111.600000   106.000000   107.70000   \n",
       "25%     270.025000   270.475000   274.975000   265.700000   270.02500   \n",
       "50%     388.175000   387.000000   393.300000   382.000000   388.17500   \n",
       "75%     517.912500   518.425000   524.425000   510.787500   517.91250   \n",
       "max    1365.150000  1361.000000  1382.000000  1347.000000  1365.15000   \n",
       "\n",
       "             Volume      Turnover  \n",
       "count  2.716000e+03  2.716000e+03  \n",
       "mean   9.563685e+06  3.114246e+14  \n",
       "std    1.109077e+07  2.281021e+14  \n",
       "min    1.235100e+04  3.710208e+11  \n",
       "25%    4.165382e+06  1.989609e+14  \n",
       "50%    6.649906e+06  2.636573e+14  \n",
       "75%    1.059023e+07  3.693935e+14  \n",
       "max    1.844356e+08  5.062943e+15  "
      ]
     },
     "execution_count": 6,
     "metadata": {},
     "output_type": "execute_result"
    }
   ],
   "source": [
    "df_final.describe()"
   ]
  },
  {
   "cell_type": "code",
   "execution_count": 7,
   "metadata": {},
   "outputs": [
    {
     "data": {
      "text/plain": [
       "False"
      ]
     },
     "execution_count": 7,
     "metadata": {},
     "output_type": "execute_result"
    }
   ],
   "source": [
    "df_final.isnull().values.any()"
   ]
  },
  {
   "cell_type": "code",
   "execution_count": 8,
   "metadata": {},
   "outputs": [
    {
     "data": {
      "text/plain": [
       "<matplotlib.axes._subplots.AxesSubplot at 0x2492dd98b88>"
      ]
     },
     "execution_count": 8,
     "metadata": {},
     "output_type": "execute_result"
    },
    {
     "data": {
      "image/png": "[encoded data removed]",
      "text/plain": [
       "<Figure size 432x288 with 1 Axes>"
      ]
     },
     "metadata": {
      "needs_background": "light"
     },
     "output_type": "display_data"
    }
   ],
   "source": [
    "df_final['Close'].plot()"
   ]
  },
  {
   "cell_type": "code",
   "execution_count": 9,
   "metadata": {},
   "outputs": [
    {
     "data": {
      "text/plain": [
       "<matplotlib.axes._subplots.AxesSubplot at 0x2492ddd4b88>"
      ]
     },
     "execution_count": 9,
     "metadata": {},
     "output_type": "execute_result"
    },
    {
     "data": {
      "image/png": "[encoded data removed]",
      "text/plain": [
       "<Figure size 1080x576 with 1 Axes>"
      ]
     },
     "metadata": {
      "needs_background": "light"
     },
     "output_type": "display_data"
    }
   ],
   "source": [
    "# Plotting Correlation of \"Churn\" with predictors\n",
    "plt.figure(figsize=(15,8))\n",
    "df_final.corr()['Close'].sort_values(ascending = False).plot(kind='bar')"
   ]
  },
  {
   "cell_type": "code",
   "execution_count": 10,
   "metadata": {},
   "outputs": [
    {
     "data": {
      "text/html": [
       "<div>\n",
       "<style scoped>\n",
       "    .dataframe tbody tr th:only-of-type {\n",
       "        vertical-align: middle;\n",
       "    }\n",
       "\n",
       "    .dataframe tbody tr th {\n",
       "        vertical-align: top;\n",
       "    }\n",
       "\n",
       "    .dataframe thead th {\n",
       "        text-align: right;\n",
       "    }\n",
       "</style>\n",
       "<table border=\"1\" class=\"dataframe\">\n",
       "  <thead>\n",
       "    <tr style=\"text-align: right;\">\n",
       "      <th></th>\n",
       "      <th>Prev Close</th>\n",
       "      <th>Open</th>\n",
       "      <th>High</th>\n",
       "      <th>Low</th>\n",
       "      <th>Close</th>\n",
       "      <th>Volume</th>\n",
       "      <th>Turnover</th>\n",
       "    </tr>\n",
       "    <tr>\n",
       "      <th>Date</th>\n",
       "      <th></th>\n",
       "      <th></th>\n",
       "      <th></th>\n",
       "      <th></th>\n",
       "      <th></th>\n",
       "      <th></th>\n",
       "      <th></th>\n",
       "    </tr>\n",
       "  </thead>\n",
       "  <tbody>\n",
       "    <tr>\n",
       "      <th>2008-12-05</th>\n",
       "      <td>150.95</td>\n",
       "      <td>152.0</td>\n",
       "      <td>159.60</td>\n",
       "      <td>149.50</td>\n",
       "      <td>153.15</td>\n",
       "      <td>2595491</td>\n",
       "      <td>4.032919e+13</td>\n",
       "    </tr>\n",
       "    <tr>\n",
       "      <th>2008-12-08</th>\n",
       "      <td>153.15</td>\n",
       "      <td>158.8</td>\n",
       "      <td>168.00</td>\n",
       "      <td>150.20</td>\n",
       "      <td>152.10</td>\n",
       "      <td>2134296</td>\n",
       "      <td>3.340826e+13</td>\n",
       "    </tr>\n",
       "    <tr>\n",
       "      <th>2008-12-10</th>\n",
       "      <td>152.10</td>\n",
       "      <td>155.2</td>\n",
       "      <td>171.75</td>\n",
       "      <td>146.00</td>\n",
       "      <td>163.45</td>\n",
       "      <td>4183216</td>\n",
       "      <td>6.489577e+13</td>\n",
       "    </tr>\n",
       "    <tr>\n",
       "      <th>2008-12-11</th>\n",
       "      <td>163.45</td>\n",
       "      <td>167.0</td>\n",
       "      <td>172.95</td>\n",
       "      <td>158.10</td>\n",
       "      <td>160.65</td>\n",
       "      <td>3045669</td>\n",
       "      <td>5.026006e+13</td>\n",
       "    </tr>\n",
       "    <tr>\n",
       "      <th>2008-12-12</th>\n",
       "      <td>160.65</td>\n",
       "      <td>155.0</td>\n",
       "      <td>155.65</td>\n",
       "      <td>146.85</td>\n",
       "      <td>153.35</td>\n",
       "      <td>2044404</td>\n",
       "      <td>3.112422e+13</td>\n",
       "    </tr>\n",
       "  </tbody>\n",
       "</table>\n",
       "</div>"
      ],
      "text/plain": [
       "            Prev Close   Open    High     Low   Close   Volume      Turnover\n",
       "Date                                                                        \n",
       "2008-12-05      150.95  152.0  159.60  149.50  153.15  2595491  4.032919e+13\n",
       "2008-12-08      153.15  158.8  168.00  150.20  152.10  2134296  3.340826e+13\n",
       "2008-12-10      152.10  155.2  171.75  146.00  163.45  4183216  6.489577e+13\n",
       "2008-12-11      163.45  167.0  172.95  158.10  160.65  3045669  5.026006e+13\n",
       "2008-12-12      160.65  155.0  155.65  146.85  153.35  2044404  3.112422e+13"
      ]
     },
     "execution_count": 10,
     "metadata": {},
     "output_type": "execute_result"
    }
   ],
   "source": [
    "test = df_final\n",
    "# Target column\n",
    "target = pd.DataFrame(test['Close'])\n",
    "test.head()"
   ]
  },
  {
   "cell_type": "code",
   "execution_count": 11,
   "metadata": {},
   "outputs": [],
   "source": [
    "# selecting Feature Columns\n",
    "feature_columns=['Prev Close','Open', 'High', 'Low', 'Volume', 'Turnover']"
   ]
  },
  {
   "cell_type": "code",
   "execution_count": 12,
   "metadata": {},
   "outputs": [
    {
     "data": {
      "text/html": [
       "<div>\n",
       "<style scoped>\n",
       "    .dataframe tbody tr th:only-of-type {\n",
       "        vertical-align: middle;\n",
       "    }\n",
       "\n",
       "    .dataframe tbody tr th {\n",
       "        vertical-align: top;\n",
       "    }\n",
       "\n",
       "    .dataframe thead th {\n",
       "        text-align: right;\n",
       "    }\n",
       "</style>\n",
       "<table border=\"1\" class=\"dataframe\">\n",
       "  <thead>\n",
       "    <tr style=\"text-align: right;\">\n",
       "      <th></th>\n",
       "      <th>Prev Close</th>\n",
       "      <th>Open</th>\n",
       "      <th>High</th>\n",
       "      <th>Low</th>\n",
       "      <th>Volume</th>\n",
       "      <th>Turnover</th>\n",
       "    </tr>\n",
       "    <tr>\n",
       "      <th>Date</th>\n",
       "      <th></th>\n",
       "      <th></th>\n",
       "      <th></th>\n",
       "      <th></th>\n",
       "      <th></th>\n",
       "      <th></th>\n",
       "    </tr>\n",
       "  </thead>\n",
       "  <tbody>\n",
       "    <tr>\n",
       "      <th>2008-12-05</th>\n",
       "      <td>0.034395</td>\n",
       "      <td>0.034422</td>\n",
       "      <td>0.037783</td>\n",
       "      <td>0.035052</td>\n",
       "      <td>0.014007</td>\n",
       "      <td>0.007893</td>\n",
       "    </tr>\n",
       "    <tr>\n",
       "      <th>2008-12-08</th>\n",
       "      <td>0.036145</td>\n",
       "      <td>0.039853</td>\n",
       "      <td>0.044395</td>\n",
       "      <td>0.035616</td>\n",
       "      <td>0.011506</td>\n",
       "      <td>0.006526</td>\n",
       "    </tr>\n",
       "    <tr>\n",
       "      <th>2008-12-10</th>\n",
       "      <td>0.035310</td>\n",
       "      <td>0.036978</td>\n",
       "      <td>0.047347</td>\n",
       "      <td>0.032232</td>\n",
       "      <td>0.022616</td>\n",
       "      <td>0.012745</td>\n",
       "    </tr>\n",
       "    <tr>\n",
       "      <th>2008-12-11</th>\n",
       "      <td>0.044336</td>\n",
       "      <td>0.046402</td>\n",
       "      <td>0.048292</td>\n",
       "      <td>0.041982</td>\n",
       "      <td>0.016448</td>\n",
       "      <td>0.009854</td>\n",
       "    </tr>\n",
       "    <tr>\n",
       "      <th>2008-12-12</th>\n",
       "      <td>0.042109</td>\n",
       "      <td>0.036818</td>\n",
       "      <td>0.034674</td>\n",
       "      <td>0.032917</td>\n",
       "      <td>0.011018</td>\n",
       "      <td>0.006075</td>\n",
       "    </tr>\n",
       "  </tbody>\n",
       "</table>\n",
       "</div>"
      ],
      "text/plain": [
       "            Prev Close      Open      High       Low    Volume  Turnover\n",
       "Date                                                                    \n",
       "2008-12-05    0.034395  0.034422  0.037783  0.035052  0.014007  0.007893\n",
       "2008-12-08    0.036145  0.039853  0.044395  0.035616  0.011506  0.006526\n",
       "2008-12-10    0.035310  0.036978  0.047347  0.032232  0.022616  0.012745\n",
       "2008-12-11    0.044336  0.046402  0.048292  0.041982  0.016448  0.009854\n",
       "2008-12-12    0.042109  0.036818  0.034674  0.032917  0.011018  0.006075"
      ]
     },
     "execution_count": 12,
     "metadata": {},
     "output_type": "execute_result"
    }
   ],
   "source": [
    "scaler = MinMaxScaler()\n",
    "feature_minmax_transform_data = scaler.fit_transform(test[feature_columns])\n",
    "feature_minmax_transform = pd.DataFrame(columns=feature_columns, data=feature_minmax_transform_data, index=test.index)\n",
    "feature_minmax_transform.head()"
   ]
  },
  {
   "cell_type": "code",
   "execution_count": 13,
   "metadata": {},
   "outputs": [
    {
     "name": "stdout",
     "output_type": "stream",
     "text": [
      "Shape of features :  (2716, 6)\n",
      "Shape of target :  (2716, 1)\n"
     ]
    }
   ],
   "source": [
    "print('Shape of features : ', feature_minmax_transform.shape)\n",
    "print('Shape of target : ', target.shape)"
   ]
  },
  {
   "cell_type": "code",
   "execution_count": 14,
   "metadata": {},
   "outputs": [],
   "source": [
    "# Shift target array because we want to predict the n + 1 day value\n",
    "target = target.shift(-1)"
   ]
  },
  {
   "cell_type": "code",
   "execution_count": 15,
   "metadata": {},
   "outputs": [],
   "source": [
    "# # Taking last 90 rows of data to be validation set\n",
    "# validation_X = feature_minmax_transform[-90:-1]\n",
    "# feature_minmax_transform = feature_minmax_transform[:-90]\n",
    "# display(validation_X.tail())\n",
    "# display(validation_y.tail())"
   ]
  },
  {
   "cell_type": "code",
   "execution_count": 16,
   "metadata": {},
   "outputs": [
    {
     "name": "stdout",
     "output_type": "stream",
     "text": [
      "\n",
      " -----After process------ \n",
      "\n",
      "Shape of features :  (2716, 6)\n",
      "Shape of target :  (2716, 1)\n"
     ]
    },
    {
     "data": {
      "text/html": [
       "<div>\n",
       "<style scoped>\n",
       "    .dataframe tbody tr th:only-of-type {\n",
       "        vertical-align: middle;\n",
       "    }\n",
       "\n",
       "    .dataframe tbody tr th {\n",
       "        vertical-align: top;\n",
       "    }\n",
       "\n",
       "    .dataframe thead th {\n",
       "        text-align: right;\n",
       "    }\n",
       "</style>\n",
       "<table border=\"1\" class=\"dataframe\">\n",
       "  <thead>\n",
       "    <tr style=\"text-align: right;\">\n",
       "      <th></th>\n",
       "      <th>Close</th>\n",
       "    </tr>\n",
       "    <tr>\n",
       "      <th>Date</th>\n",
       "      <th></th>\n",
       "    </tr>\n",
       "  </thead>\n",
       "  <tbody>\n",
       "    <tr>\n",
       "      <th>2019-11-19</th>\n",
       "      <td>167.40</td>\n",
       "    </tr>\n",
       "    <tr>\n",
       "      <th>2019-11-20</th>\n",
       "      <td>164.15</td>\n",
       "    </tr>\n",
       "    <tr>\n",
       "      <th>2019-11-21</th>\n",
       "      <td>162.35</td>\n",
       "    </tr>\n",
       "    <tr>\n",
       "      <th>2019-11-22</th>\n",
       "      <td>166.10</td>\n",
       "    </tr>\n",
       "    <tr>\n",
       "      <th>2019-11-25</th>\n",
       "      <td>NaN</td>\n",
       "    </tr>\n",
       "  </tbody>\n",
       "</table>\n",
       "</div>"
      ],
      "text/plain": [
       "             Close\n",
       "Date              \n",
       "2019-11-19  167.40\n",
       "2019-11-20  164.15\n",
       "2019-11-21  162.35\n",
       "2019-11-22  166.10\n",
       "2019-11-25     NaN"
      ]
     },
     "metadata": {},
     "output_type": "display_data"
    }
   ],
   "source": [
    "print(\"\\n -----After process------ \\n\")\n",
    "print('Shape of features : ', feature_minmax_transform.shape)\n",
    "print('Shape of target : ', target.shape)\n",
    "display(target.tail())"
   ]
  },
  {
   "cell_type": "code",
   "execution_count": 17,
   "metadata": {},
   "outputs": [],
   "source": [
    "ts_split= TimeSeriesSplit(n_splits=10)\n",
    "for train_index, test_index in ts_split.split(feature_minmax_transform):\n",
    "        X_train, X_test = feature_minmax_transform[:len(train_index)], feature_minmax_transform[len(train_index): (len(train_index)+len(test_index))]\n",
    "        y_train, y_test = target[:len(train_index)].values.ravel(), target[len(train_index): (len(train_index)+len(test_index))].values.ravel()"
   ]
  },
  {
   "cell_type": "code",
   "execution_count": 18,
   "metadata": {},
   "outputs": [
    {
     "data": {
      "text/plain": [
       "(2470, 6)"
      ]
     },
     "execution_count": 18,
     "metadata": {},
     "output_type": "execute_result"
    }
   ],
   "source": [
    "X_train.shape"
   ]
  },
  {
   "cell_type": "code",
   "execution_count": 19,
   "metadata": {},
   "outputs": [
    {
     "data": {
      "text/html": [
       "<div>\n",
       "<style scoped>\n",
       "    .dataframe tbody tr th:only-of-type {\n",
       "        vertical-align: middle;\n",
       "    }\n",
       "\n",
       "    .dataframe tbody tr th {\n",
       "        vertical-align: top;\n",
       "    }\n",
       "\n",
       "    .dataframe thead th {\n",
       "        text-align: right;\n",
       "    }\n",
       "</style>\n",
       "<table border=\"1\" class=\"dataframe\">\n",
       "  <thead>\n",
       "    <tr style=\"text-align: right;\">\n",
       "      <th></th>\n",
       "      <th>Prev Close</th>\n",
       "      <th>Open</th>\n",
       "      <th>High</th>\n",
       "      <th>Low</th>\n",
       "      <th>Volume</th>\n",
       "      <th>Turnover</th>\n",
       "    </tr>\n",
       "    <tr>\n",
       "      <th>Date</th>\n",
       "      <th></th>\n",
       "      <th></th>\n",
       "      <th></th>\n",
       "      <th></th>\n",
       "      <th></th>\n",
       "      <th></th>\n",
       "    </tr>\n",
       "  </thead>\n",
       "  <tbody>\n",
       "    <tr>\n",
       "      <th>2019-11-19</th>\n",
       "      <td>0.049624</td>\n",
       "      <td>0.049437</td>\n",
       "      <td>0.047347</td>\n",
       "      <td>0.049234</td>\n",
       "      <td>0.106206</td>\n",
       "      <td>0.065277</td>\n",
       "    </tr>\n",
       "    <tr>\n",
       "      <th>2019-11-20</th>\n",
       "      <td>0.047755</td>\n",
       "      <td>0.047001</td>\n",
       "      <td>0.046127</td>\n",
       "      <td>0.048509</td>\n",
       "      <td>0.105690</td>\n",
       "      <td>0.064730</td>\n",
       "    </tr>\n",
       "    <tr>\n",
       "      <th>2019-11-21</th>\n",
       "      <td>0.047477</td>\n",
       "      <td>0.046362</td>\n",
       "      <td>0.046048</td>\n",
       "      <td>0.045931</td>\n",
       "      <td>0.117104</td>\n",
       "      <td>0.071173</td>\n",
       "    </tr>\n",
       "    <tr>\n",
       "      <th>2019-11-22</th>\n",
       "      <td>0.044892</td>\n",
       "      <td>0.044725</td>\n",
       "      <td>0.042231</td>\n",
       "      <td>0.043956</td>\n",
       "      <td>0.114891</td>\n",
       "      <td>0.067873</td>\n",
       "    </tr>\n",
       "    <tr>\n",
       "      <th>2019-11-25</th>\n",
       "      <td>0.043461</td>\n",
       "      <td>0.041370</td>\n",
       "      <td>0.043293</td>\n",
       "      <td>0.043433</td>\n",
       "      <td>0.141626</td>\n",
       "      <td>0.084555</td>\n",
       "    </tr>\n",
       "  </tbody>\n",
       "</table>\n",
       "</div>"
      ],
      "text/plain": [
       "            Prev Close      Open      High       Low    Volume  Turnover\n",
       "Date                                                                    \n",
       "2019-11-19    0.049624  0.049437  0.047347  0.049234  0.106206  0.065277\n",
       "2019-11-20    0.047755  0.047001  0.046127  0.048509  0.105690  0.064730\n",
       "2019-11-21    0.047477  0.046362  0.046048  0.045931  0.117104  0.071173\n",
       "2019-11-22    0.044892  0.044725  0.042231  0.043956  0.114891  0.067873\n",
       "2019-11-25    0.043461  0.041370  0.043293  0.043433  0.141626  0.084555"
      ]
     },
     "execution_count": 19,
     "metadata": {},
     "output_type": "execute_result"
    }
   ],
   "source": [
    "pd.DataFrame(feature_minmax_transform).tail()"
   ]
  },
  {
   "cell_type": "code",
   "execution_count": 20,
   "metadata": {},
   "outputs": [
    {
     "data": {
      "text/html": [
       "<div>\n",
       "<style scoped>\n",
       "    .dataframe tbody tr th:only-of-type {\n",
       "        vertical-align: middle;\n",
       "    }\n",
       "\n",
       "    .dataframe tbody tr th {\n",
       "        vertical-align: top;\n",
       "    }\n",
       "\n",
       "    .dataframe thead th {\n",
       "        text-align: right;\n",
       "    }\n",
       "</style>\n",
       "<table border=\"1\" class=\"dataframe\">\n",
       "  <thead>\n",
       "    <tr style=\"text-align: right;\">\n",
       "      <th></th>\n",
       "      <th>Prev Close</th>\n",
       "      <th>Open</th>\n",
       "      <th>High</th>\n",
       "      <th>Low</th>\n",
       "      <th>Volume</th>\n",
       "      <th>Turnover</th>\n",
       "    </tr>\n",
       "    <tr>\n",
       "      <th>Date</th>\n",
       "      <th></th>\n",
       "      <th></th>\n",
       "      <th></th>\n",
       "      <th></th>\n",
       "      <th></th>\n",
       "      <th></th>\n",
       "    </tr>\n",
       "  </thead>\n",
       "  <tbody>\n",
       "    <tr>\n",
       "      <th>2019-11-19</th>\n",
       "      <td>0.049624</td>\n",
       "      <td>0.049437</td>\n",
       "      <td>0.047347</td>\n",
       "      <td>0.049234</td>\n",
       "      <td>0.106206</td>\n",
       "      <td>0.065277</td>\n",
       "    </tr>\n",
       "    <tr>\n",
       "      <th>2019-11-20</th>\n",
       "      <td>0.047755</td>\n",
       "      <td>0.047001</td>\n",
       "      <td>0.046127</td>\n",
       "      <td>0.048509</td>\n",
       "      <td>0.105690</td>\n",
       "      <td>0.064730</td>\n",
       "    </tr>\n",
       "    <tr>\n",
       "      <th>2019-11-21</th>\n",
       "      <td>0.047477</td>\n",
       "      <td>0.046362</td>\n",
       "      <td>0.046048</td>\n",
       "      <td>0.045931</td>\n",
       "      <td>0.117104</td>\n",
       "      <td>0.071173</td>\n",
       "    </tr>\n",
       "    <tr>\n",
       "      <th>2019-11-22</th>\n",
       "      <td>0.044892</td>\n",
       "      <td>0.044725</td>\n",
       "      <td>0.042231</td>\n",
       "      <td>0.043956</td>\n",
       "      <td>0.114891</td>\n",
       "      <td>0.067873</td>\n",
       "    </tr>\n",
       "    <tr>\n",
       "      <th>2019-11-25</th>\n",
       "      <td>0.043461</td>\n",
       "      <td>0.041370</td>\n",
       "      <td>0.043293</td>\n",
       "      <td>0.043433</td>\n",
       "      <td>0.141626</td>\n",
       "      <td>0.084555</td>\n",
       "    </tr>\n",
       "  </tbody>\n",
       "</table>\n",
       "</div>"
      ],
      "text/plain": [
       "            Prev Close      Open      High       Low    Volume  Turnover\n",
       "Date                                                                    \n",
       "2019-11-19    0.049624  0.049437  0.047347  0.049234  0.106206  0.065277\n",
       "2019-11-20    0.047755  0.047001  0.046127  0.048509  0.105690  0.064730\n",
       "2019-11-21    0.047477  0.046362  0.046048  0.045931  0.117104  0.071173\n",
       "2019-11-22    0.044892  0.044725  0.042231  0.043956  0.114891  0.067873\n",
       "2019-11-25    0.043461  0.041370  0.043293  0.043433  0.141626  0.084555"
      ]
     },
     "execution_count": 20,
     "metadata": {},
     "output_type": "execute_result"
    }
   ],
   "source": [
    "pd.DataFrame(X_test).tail()"
   ]
  },
  {
   "cell_type": "code",
   "execution_count": 21,
   "metadata": {},
   "outputs": [
    {
     "data": {
      "text/plain": [
       "(246, 6)"
      ]
     },
     "execution_count": 21,
     "metadata": {},
     "output_type": "execute_result"
    }
   ],
   "source": [
    "X_test.shape"
   ]
  },
  {
   "cell_type": "code",
   "execution_count": 22,
   "metadata": {},
   "outputs": [
    {
     "data": {
      "text/plain": [
       "(2470,)"
      ]
     },
     "execution_count": 22,
     "metadata": {},
     "output_type": "execute_result"
    }
   ],
   "source": [
    "y_train.shape"
   ]
  },
  {
   "cell_type": "code",
   "execution_count": 23,
   "metadata": {},
   "outputs": [
    {
     "data": {
      "text/plain": [
       "(246,)"
      ]
     },
     "execution_count": 23,
     "metadata": {},
     "output_type": "execute_result"
    }
   ],
   "source": [
    "y_test.shape"
   ]
  },
  {
   "cell_type": "code",
   "execution_count": 24,
   "metadata": {},
   "outputs": [],
   "source": [
    "def validate_result(model, model_name):\n",
    "    predicted = model.predict(validation_X)\n",
    "    RSME_score = np.sqrt(mean_squared_error(validation_y, predicted))\n",
    "    print('RMSE: ', RSME_score)\n",
    "    \n",
    "    R2_score = r2_score(validation_y, predicted)\n",
    "    print('R2 score: ', R2_score)\n",
    "\n",
    "    plt.plot(validation_y.index, predicted,'r', label='Predict')\n",
    "    plt.plot(validation_y.index, validation_y,'b', label='Actual')\n",
    "    plt.ylabel('Price')\n",
    "    \n",
    "    plt.gca().xaxis.set_major_formatter(mdates.DateFormatter('%Y-%m-%d'))\n",
    "    plt.gca().xaxis.set_major_locator(mdates.MonthLocator())\n",
    "    \n",
    "    plt.title(model_name + ' Predict vs Actual')\n",
    "    plt.legend(loc='upper right')\n",
    "    plt.show()"
   ]
  },
  {
   "cell_type": "code",
   "execution_count": 25,
   "metadata": {},
   "outputs": [],
   "source": [
    "X_train =np.array(X_train)\n",
    "X_test =np.array(X_test)\n",
    "\n",
    "X_tr_t = X_train.reshape(X_train.shape[0], 1, X_train.shape[1])\n",
    "X_tst_t = X_test.reshape(X_test.shape[0], 1, X_test.shape[1])"
   ]
  },
  {
   "cell_type": "code",
   "execution_count": 27,
   "metadata": {},
   "outputs": [
    {
     "name": "stdout",
     "output_type": "stream",
     "text": [
      "Train on 2470 samples, validate on 246 samples\n",
      "Epoch 1/200\n",
      "2470/2470 [==============================] - 7s 3ms/step - loss: 301703.6438 - val_loss: nan\n",
      "Epoch 2/200\n",
      "2470/2470 [==============================] - 6s 2ms/step - loss: 296983.9475 - val_loss: nan\n",
      "Epoch 3/200\n",
      "2470/2470 [==============================] - 4s 2ms/step - loss: 284375.4015 - val_loss: nan\n",
      "Epoch 4/200\n",
      "2470/2470 [==============================] - 6s 2ms/step - loss: 265279.5100 - val_loss: nan\n",
      "Epoch 5/200\n",
      "2470/2470 [==============================] - 6s 2ms/step - loss: 242876.4002 - val_loss: nan\n",
      "Epoch 6/200\n",
      "2470/2470 [==============================] - 4s 2ms/step - loss: 219334.3550 - val_loss: nan\n",
      "Epoch 7/200\n",
      "2470/2470 [==============================] - 7s 3ms/step - loss: 195170.5828 - val_loss: nan\n",
      "Epoch 8/200\n",
      "2470/2470 [==============================] - 7s 3ms/step - loss: 171089.8976 - val_loss: nan\n",
      "Epoch 9/200\n",
      "2470/2470 [==============================] - 4s 2ms/step - loss: 147733.6242 - val_loss: nan\n",
      "Epoch 10/200\n",
      "2470/2470 [==============================] - 5s 2ms/step - loss: 125648.5354 - val_loss: nan\n",
      "Epoch 11/200\n",
      "2470/2470 [==============================] - 5s 2ms/step - loss: 105291.3020 - val_loss: nan\n",
      "Epoch 12/200\n",
      "2470/2470 [==============================] - 5s 2ms/step - loss: 86999.9733 - val_loss: nan\n",
      "Epoch 13/200\n",
      "2470/2470 [==============================] - 4s 2ms/step - loss: 70989.1566 - val_loss: nan\n",
      "Epoch 14/200\n",
      "2470/2470 [==============================] - 7s 3ms/step - loss: 57349.8133 - val_loss: nan\n",
      "Epoch 15/200\n",
      "2470/2470 [==============================] - 6s 3ms/step - loss: 46046.2913 - val_loss: nan\n",
      "Epoch 16/200\n",
      "2470/2470 [==============================] - 6s 3ms/step - loss: 36895.3593 - val_loss: nan\n",
      "Epoch 17/200\n",
      "2470/2470 [==============================] - 4s 2ms/step - loss: 29478.7451 - val_loss: nan\n",
      "Epoch 18/200\n",
      "2470/2470 [==============================] - 6s 3ms/step - loss: 23455.4793 - val_loss: nan\n",
      "Epoch 19/200\n",
      "2470/2470 [==============================] - 6s 2ms/step - loss: 18659.1511 - val_loss: nan\n",
      "Epoch 20/200\n",
      "2470/2470 [==============================] - 5s 2ms/step - loss: 14841.2991 - val_loss: nan\n",
      "Epoch 21/200\n",
      "2470/2470 [==============================] - 4s 2ms/step - loss: 11773.6445 - val_loss: nan\n",
      "Epoch 22/200\n",
      "2470/2470 [==============================] - 5s 2ms/step - loss: 9294.1333 - val_loss: nan\n",
      "Epoch 23/200\n",
      "2470/2470 [==============================] - 4s 2ms/step - loss: 7283.4510 - val_loss: nan\n",
      "Epoch 24/200\n",
      "2470/2470 [==============================] - 6s 2ms/step - loss: 5647.7209 - val_loss: nan\n",
      "Epoch 25/200\n",
      "2470/2470 [==============================] - 6s 3ms/step - loss: 4338.9462 - val_loss: nan\n",
      "Epoch 26/200\n",
      "2470/2470 [==============================] - 6s 2ms/step - loss: 3319.2628 - val_loss: nan\n",
      "Epoch 27/200\n",
      "2470/2470 [==============================] - 5s 2ms/step - loss: 2556.0695 - val_loss: nan\n",
      "Epoch 28/200\n",
      "2470/2470 [==============================] - 7s 3ms/step - loss: 2004.6050 - val_loss: nan\n",
      "Epoch 29/200\n",
      "2470/2470 [==============================] - 7s 3ms/step - loss: 1611.8458 - val_loss: nan\n",
      "Epoch 30/200\n",
      "2470/2470 [==============================] - 4s 2ms/step - loss: 1305.0996 - val_loss: nan\n",
      "Epoch 31/200\n",
      "2470/2470 [==============================] - 4s 2ms/step - loss: 1073.2381 - val_loss: nan\n",
      "Epoch 32/200\n",
      "2470/2470 [==============================] - 5s 2ms/step - loss: 911.3702 - val_loss: nan\n",
      "Epoch 33/200\n",
      "2470/2470 [==============================] - 7s 3ms/step - loss: 798.3396 - val_loss: nan\n",
      "Epoch 34/200\n",
      "2470/2470 [==============================] - 6s 3ms/step - loss: 719.3093 - val_loss: nan\n",
      "Epoch 35/200\n",
      "2470/2470 [==============================] - 5s 2ms/step - loss: 664.5150 - val_loss: nan\n",
      "Epoch 36/200\n",
      "2470/2470 [==============================] - 7s 3ms/step - loss: 625.6449 - val_loss: nan\n",
      "Epoch 37/200\n",
      "2470/2470 [==============================] - 7s 3ms/step - loss: 596.6291 - val_loss: nan\n",
      "Epoch 38/200\n",
      "2470/2470 [==============================] - 8s 3ms/step - loss: 574.5792 - val_loss: nan\n",
      "Epoch 39/200\n",
      "2470/2470 [==============================] - 6s 2ms/step - loss: 557.3440 - val_loss: nan\n",
      "Epoch 40/200\n",
      "2470/2470 [==============================] - 6s 2ms/step - loss: 542.7783 - val_loss: nan\n",
      "Epoch 41/200\n",
      "2470/2470 [==============================] - 5s 2ms/step - loss: 530.7291 - val_loss: nan\n",
      "Epoch 42/200\n",
      "2470/2470 [==============================] - 5s 2ms/step - loss: 519.9225 - val_loss: nan\n",
      "Epoch 43/200\n",
      "2470/2470 [==============================] - 5s 2ms/step - loss: 510.5693 - val_loss: nan\n",
      "Epoch 44/200\n",
      "2470/2470 [==============================] - 6s 2ms/step - loss: 502.2758 - val_loss: nan\n",
      "Epoch 45/200\n",
      "2470/2470 [==============================] - 4s 2ms/step - loss: 494.8969 - val_loss: nan\n",
      "Epoch 46/200\n",
      "2470/2470 [==============================] - 6s 2ms/step - loss: 488.5289 - val_loss: nan\n",
      "Epoch 47/200\n",
      "2470/2470 [==============================] - 7s 3ms/step - loss: 483.2623 - val_loss: nan\n",
      "Epoch 48/200\n",
      "2470/2470 [==============================] - 7s 3ms/step - loss: 477.7328 - val_loss: nan\n",
      "Epoch 49/200\n",
      "2470/2470 [==============================] - 6s 2ms/step - loss: 472.8286 - val_loss: nan\n",
      "Epoch 50/200\n",
      "2470/2470 [==============================] - 5s 2ms/step - loss: 468.4358 - val_loss: nan\n",
      "Epoch 51/200\n",
      "2470/2470 [==============================] - 5s 2ms/step - loss: 464.2159 - val_loss: nan\n",
      "Epoch 52/200\n",
      "2470/2470 [==============================] - 7s 3ms/step - loss: 460.4363 - val_loss: nan\n",
      "Epoch 53/200\n",
      "2470/2470 [==============================] - 6s 2ms/step - loss: 457.4145 - val_loss: nan\n",
      "Epoch 54/200\n",
      "2470/2470 [==============================] - 4s 1ms/step - loss: 455.0974 - val_loss: nan\n",
      "Epoch 55/200\n",
      "2470/2470 [==============================] - 4s 2ms/step - loss: 453.1197 - val_loss: nan\n",
      "Epoch 56/200\n",
      "2470/2470 [==============================] - 5s 2ms/step - loss: 451.4006 - val_loss: nan\n",
      "Epoch 57/200\n",
      "2470/2470 [==============================] - 8s 3ms/step - loss: 450.0229 - val_loss: nan\n",
      "Epoch 58/200\n",
      "2470/2470 [==============================] - 7s 3ms/step - loss: 448.3079 - val_loss: nan\n",
      "Epoch 59/200\n",
      "2470/2470 [==============================] - 4s 2ms/step - loss: 447.1860 - val_loss: nan\n",
      "Epoch 60/200\n",
      "2470/2470 [==============================] - 7s 3ms/step - loss: 446.3077 - val_loss: nan\n",
      "Epoch 61/200\n",
      "2470/2470 [==============================] - 5s 2ms/step - loss: 445.1293 - val_loss: nan\n",
      "Epoch 62/200\n",
      "2470/2470 [==============================] - 5s 2ms/step - loss: 444.4353 - val_loss: nan\n",
      "Epoch 63/200\n",
      "2470/2470 [==============================] - 4s 2ms/step - loss: 443.5663 - val_loss: nan\n",
      "Epoch 64/200\n",
      "2470/2470 [==============================] - 6s 2ms/step - loss: 442.4885 - val_loss: nan\n",
      "Epoch 65/200\n",
      "2470/2470 [==============================] - 6s 2ms/step - loss: 442.1157 - val_loss: nan\n",
      "Epoch 66/200\n",
      "2470/2470 [==============================] - 5s 2ms/step - loss: 441.5549 - val_loss: nan\n",
      "Epoch 67/200\n",
      "2470/2470 [==============================] - 4s 2ms/step - loss: 440.8685 - val_loss: nan\n",
      "Epoch 68/200\n",
      "2470/2470 [==============================] - 6s 2ms/step - loss: 440.3176 - val_loss: nan\n",
      "Epoch 69/200\n",
      "2470/2470 [==============================] - 7s 3ms/step - loss: 439.7815 - val_loss: nan\n",
      "Epoch 70/200\n",
      "2470/2470 [==============================] - 6s 2ms/step - loss: 439.3832 - val_loss: nan\n",
      "Epoch 71/200\n",
      "2470/2470 [==============================] - 6s 2ms/step - loss: 438.7903 - val_loss: nan\n",
      "Epoch 72/200\n",
      "2470/2470 [==============================] - 6s 2ms/step - loss: 438.2719 - val_loss: nan\n",
      "Epoch 73/200\n",
      "2470/2470 [==============================] - 5s 2ms/step - loss: 437.7140 - val_loss: nan\n",
      "Epoch 74/200\n",
      "2470/2470 [==============================] - 4s 2ms/step - loss: 437.3775 - val_loss: nan\n",
      "Epoch 75/200\n",
      "2470/2470 [==============================] - 4s 2ms/step - loss: 436.6567 - val_loss: nan\n",
      "Epoch 76/200\n",
      "2470/2470 [==============================] - 6s 2ms/step - loss: 436.1851 - val_loss: nan\n",
      "Epoch 77/200\n",
      "2470/2470 [==============================] - 5s 2ms/step - loss: 435.7309 - val_loss: nan\n",
      "Epoch 78/200\n",
      "2470/2470 [==============================] - 5s 2ms/step - loss: 435.1438 - val_loss: nan\n",
      "Epoch 79/200\n"
     ]
    },
    {
     "name": "stdout",
     "output_type": "stream",
     "text": [
      "2470/2470 [==============================] - 6s 2ms/step - loss: 434.8731 - val_loss: nan\n",
      "Epoch 80/200\n",
      "2470/2470 [==============================] - 7s 3ms/step - loss: 434.3592 - val_loss: nan\n",
      "Epoch 81/200\n",
      "2470/2470 [==============================] - 5s 2ms/step - loss: 434.1113 - val_loss: nan\n",
      "Epoch 82/200\n",
      "2470/2470 [==============================] - 7s 3ms/step - loss: 433.6428 - val_loss: nan\n",
      "Epoch 83/200\n",
      "2470/2470 [==============================] - 5s 2ms/step - loss: 433.2456 - val_loss: nan\n",
      "Epoch 84/200\n",
      "2470/2470 [==============================] - 5s 2ms/step - loss: 432.9470 - val_loss: nan\n",
      "Epoch 85/200\n",
      "2470/2470 [==============================] - 6s 2ms/step - loss: 432.4951 - val_loss: nan\n",
      "Epoch 86/200\n",
      "2470/2470 [==============================] - 5s 2ms/step - loss: 432.2764 - val_loss: nan\n",
      "Epoch 87/200\n",
      "2470/2470 [==============================] - 5s 2ms/step - loss: 432.0838 - val_loss: nan\n",
      "Epoch 88/200\n",
      "2470/2470 [==============================] - 7s 3ms/step - loss: 431.6769 - val_loss: nan\n",
      "Epoch 89/200\n",
      "2470/2470 [==============================] - 5s 2ms/step - loss: 431.4833 - val_loss: nan\n",
      "Epoch 90/200\n",
      "2470/2470 [==============================] - 4s 2ms/step - loss: 431.2071 - val_loss: nan\n",
      "Epoch 91/200\n",
      "2470/2470 [==============================] - 6s 2ms/step - loss: 430.8505 - val_loss: nan\n",
      "Epoch 92/200\n",
      "2470/2470 [==============================] - 7s 3ms/step - loss: 430.7103 - val_loss: nan\n",
      "Epoch 93/200\n",
      "2470/2470 [==============================] - 6s 3ms/step - loss: 430.4077 - val_loss: nan\n",
      "Epoch 94/200\n",
      "2470/2470 [==============================] - 7s 3ms/step - loss: 430.3444 - val_loss: nan\n",
      "Epoch 95/200\n",
      "2470/2470 [==============================] - 6s 2ms/step - loss: 429.9994 - val_loss: nan\n",
      "Epoch 96/200\n",
      "2470/2470 [==============================] - 6s 2ms/step - loss: 429.7170 - val_loss: nan4\n",
      "Epoch 97/200\n",
      "2470/2470 [==============================] - 5s 2ms/step - loss: 429.5711 - val_loss: nan\n",
      "Epoch 98/200\n",
      "2470/2470 [==============================] - 7s 3ms/step - loss: 429.2949 - val_loss: nan\n",
      "Epoch 99/200\n",
      "2470/2470 [==============================] - 6s 2ms/step - loss: 429.1271 - val_loss: nan\n",
      "Epoch 100/200\n",
      "2470/2470 [==============================] - 5s 2ms/step - loss: 428.9420 - val_loss: nan\n",
      "Epoch 101/200\n",
      "2470/2470 [==============================] - 6s 2ms/step - loss: 428.7448 - val_loss: nan\n",
      "Epoch 102/200\n",
      "2470/2470 [==============================] - 6s 2ms/step - loss: 428.4681 - val_loss: nan\n",
      "Epoch 103/200\n",
      "2470/2470 [==============================] - 7s 3ms/step - loss: 428.3924 - val_loss: nan\n",
      "Epoch 104/200\n",
      "2470/2470 [==============================] - 5s 2ms/step - loss: 428.2522 - val_loss: nan\n",
      "Epoch 105/200\n",
      "2470/2470 [==============================] - 6s 2ms/step - loss: 428.0138 - val_loss: nan\n",
      "Epoch 106/200\n",
      "2470/2470 [==============================] - 6s 2ms/step - loss: 427.7698 - val_loss: nan\n",
      "Epoch 107/200\n",
      "2470/2470 [==============================] - 7s 3ms/step - loss: 427.6721 - val_loss: nan\n",
      "Epoch 108/200\n",
      "2470/2470 [==============================] - 7s 3ms/step - loss: 427.5227 - val_loss: nan\n",
      "Epoch 109/200\n",
      "2470/2470 [==============================] - 5s 2ms/step - loss: 427.4138 - val_loss: nan\n",
      "Epoch 110/200\n",
      "2470/2470 [==============================] - 5s 2ms/step - loss: 427.2299 - val_loss: nan\n",
      "Epoch 111/200\n",
      "2470/2470 [==============================] - 4s 2ms/step - loss: 427.0064 - val_loss: nan\n",
      "Epoch 112/200\n",
      "2470/2470 [==============================] - 5s 2ms/step - loss: 426.7497 - val_loss: nan7.779\n",
      "Epoch 113/200\n",
      "2470/2470 [==============================] - 4s 2ms/step - loss: 426.4928 - val_loss: nan\n",
      "Epoch 114/200\n",
      "2470/2470 [==============================] - 6s 2ms/step - loss: 426.2774 - val_loss: nan\n",
      "Epoch 115/200\n",
      "2470/2470 [==============================] - 5s 2ms/step - loss: 426.1566 - val_loss: nan\n",
      "Epoch 116/200\n",
      "2470/2470 [==============================] - 6s 2ms/step - loss: 426.1310 - val_loss: nan\n",
      "Epoch 117/200\n",
      "2470/2470 [==============================] - 6s 2ms/step - loss: 425.8831 - val_loss: nan\n",
      "Epoch 118/200\n",
      "2470/2470 [==============================] - 5s 2ms/step - loss: 425.8128 - val_loss: nan\n",
      "Epoch 119/200\n",
      "2470/2470 [==============================] - 5s 2ms/step - loss: 425.7044 - val_loss: nan\n",
      "Epoch 120/200\n",
      "2470/2470 [==============================] - 7s 3ms/step - loss: 425.6655 - val_loss: nan\n",
      "Epoch 121/200\n",
      "2470/2470 [==============================] - 6s 2ms/step - loss: 425.6236 - val_loss: nan\n",
      "Epoch 122/200\n",
      "2470/2470 [==============================] - 6s 2ms/step - loss: 425.4932 - val_loss: nan\n",
      "Epoch 123/200\n",
      "2470/2470 [==============================] - 5s 2ms/step - loss: 425.3964 - val_loss: nan\n",
      "Epoch 124/200\n",
      "2470/2470 [==============================] - 6s 2ms/step - loss: 425.2168 - val_loss: nan\n",
      "Epoch 125/200\n",
      "2470/2470 [==============================] - 6s 3ms/step - loss: 425.0590 - val_loss: nan\n",
      "Epoch 126/200\n",
      "2470/2470 [==============================] - 6s 2ms/step - loss: 424.9091 - val_loss: nan\n",
      "Epoch 127/200\n",
      "2470/2470 [==============================] - 13s 5ms/step - loss: 424.7485 - val_loss: nan\n",
      "Epoch 128/200\n",
      "2470/2470 [==============================] - 19s 8ms/step - loss: 424.6151 - val_loss: nan\n",
      "Epoch 129/200\n",
      "2470/2470 [==============================] - 4s 1ms/step - loss: 424.4366 - val_loss: nan\n",
      "Epoch 130/200\n",
      "2470/2470 [==============================] - 3s 1ms/step - loss: 424.2924 - val_loss: nan\n",
      "Epoch 131/200\n",
      "2470/2470 [==============================] - 3s 1ms/step - loss: 424.2063 - val_loss: nan\n",
      "Epoch 132/200\n",
      "2470/2470 [==============================] - 3s 1ms/step - loss: 424.0689 - val_loss: nan\n",
      "Epoch 133/200\n",
      "2470/2470 [==============================] - 3s 1ms/step - loss: 423.9075 - val_loss: nan\n",
      "Epoch 134/200\n",
      "2470/2470 [==============================] - 3s 1ms/step - loss: 423.7854 - val_loss: nan\n",
      "Epoch 135/200\n",
      "2470/2470 [==============================] - 3s 1ms/step - loss: 423.6728 - val_loss: nan\n",
      "Epoch 136/200\n",
      "2470/2470 [==============================] - 3s 1ms/step - loss: 423.5200 - val_loss: nan\n",
      "Epoch 137/200\n",
      "2470/2470 [==============================] - 3s 1ms/step - loss: 423.2603 - val_loss: nan\n",
      "Epoch 138/200\n",
      "2470/2470 [==============================] - 3s 1ms/step - loss: 423.1572 - val_loss: nan\n",
      "Epoch 139/200\n",
      "2470/2470 [==============================] - 3s 1ms/step - loss: 423.0665 - val_loss: nan\n",
      "Epoch 140/200\n",
      "2470/2470 [==============================] - 3s 1ms/step - loss: 422.9665 - val_loss: nan\n",
      "Epoch 141/200\n",
      "2470/2470 [==============================] - 3s 1ms/step - loss: 422.8571 - val_loss: nan\n",
      "Epoch 142/200\n",
      "2470/2470 [==============================] - 3s 1ms/step - loss: 422.7566 - val_loss: nan\n",
      "Epoch 143/200\n",
      "2470/2470 [==============================] - 3s 1ms/step - loss: 422.6353 - val_loss: nan\n",
      "Epoch 144/200\n",
      "2470/2470 [==============================] - 3s 1ms/step - loss: 422.6196 - val_loss: nan\n",
      "Epoch 145/200\n",
      "2470/2470 [==============================] - 3s 1ms/step - loss: 422.5186 - val_loss: nan\n",
      "Epoch 146/200\n",
      "2470/2470 [==============================] - 3s 1ms/step - loss: 422.3308 - val_loss: nan\n",
      "Epoch 147/200\n",
      "2470/2470 [==============================] - 3s 1ms/step - loss: 422.2896 - val_loss: nan\n",
      "Epoch 148/200\n",
      "2470/2470 [==============================] - 3s 1ms/step - loss: 422.1332 - val_loss: nan\n",
      "Epoch 149/200\n",
      "2470/2470 [==============================] - 3s 1ms/step - loss: 421.9751 - val_loss: nan\n",
      "Epoch 150/200\n",
      "2470/2470 [==============================] - 3s 1ms/step - loss: 421.8098 - val_loss: nan\n",
      "Epoch 151/200\n",
      "2470/2470 [==============================] - 3s 1ms/step - loss: 421.7302 - val_loss: nan\n",
      "Epoch 152/200\n",
      "2470/2470 [==============================] - 3s 1ms/step - loss: 421.7223 - val_loss: nan\n",
      "Epoch 153/200\n",
      "2470/2470 [==============================] - 3s 1ms/step - loss: 421.5215 - val_loss: nan\n",
      "Epoch 154/200\n",
      "2470/2470 [==============================] - 3s 1ms/step - loss: 421.3095 - val_loss: nan\n",
      "Epoch 155/200\n",
      "2470/2470 [==============================] - 3s 1ms/step - loss: 421.1978 - val_loss: nan\n",
      "Epoch 156/200\n",
      "2470/2470 [==============================] - 3s 1ms/step - loss: 421.0978 - val_loss: nan\n",
      "Epoch 157/200\n",
      "2470/2470 [==============================] - 3s 1ms/step - loss: 421.0568 - val_loss: nan\n",
      "Epoch 158/200\n"
     ]
    },
    {
     "name": "stdout",
     "output_type": "stream",
     "text": [
      "2470/2470 [==============================] - 3s 1ms/step - loss: 420.9332 - val_loss: nan\n",
      "Epoch 159/200\n",
      "2470/2470 [==============================] - 3s 1ms/step - loss: 420.6186 - val_loss: nan\n",
      "Epoch 160/200\n",
      "2470/2470 [==============================] - 3s 1ms/step - loss: 420.6715 - val_loss: nan\n",
      "Epoch 161/200\n",
      "2470/2470 [==============================] - 5s 2ms/step - loss: 420.3435 - val_loss: nan\n",
      "Epoch 162/200\n",
      "2470/2470 [==============================] - 7s 3ms/step - loss: 420.3985 - val_loss: nan\n",
      "Epoch 163/200\n",
      "2470/2470 [==============================] - 6s 2ms/step - loss: 420.1204 - val_loss: nan\n",
      "Epoch 164/200\n",
      "2470/2470 [==============================] - 5s 2ms/step - loss: 420.0494 - val_loss: nan\n",
      "Epoch 165/200\n",
      "2470/2470 [==============================] - 6s 2ms/step - loss: 419.9592 - val_loss: nan\n",
      "Epoch 166/200\n",
      "2470/2470 [==============================] - 5s 2ms/step - loss: 419.9921 - val_loss: nan\n",
      "Epoch 167/200\n",
      "2470/2470 [==============================] - 4s 2ms/step - loss: 419.9296 - val_loss: nan\n",
      "Epoch 168/200\n",
      "2470/2470 [==============================] - 4s 2ms/step - loss: 419.7751 - val_loss: nan\n",
      "Epoch 169/200\n",
      "2470/2470 [==============================] - 5s 2ms/step - loss: 419.6989 - val_loss: nan\n",
      "Epoch 170/200\n",
      "2470/2470 [==============================] - 5s 2ms/step - loss: 419.6355 - val_loss: nan\n",
      "Epoch 171/200\n",
      "2470/2470 [==============================] - 6s 2ms/step - loss: 419.7178 - val_loss: nan\n",
      "Epoch 172/200\n",
      "2470/2470 [==============================] - 5s 2ms/step - loss: 419.4813 - val_loss: nan\n",
      "Epoch 173/200\n",
      "2470/2470 [==============================] - 6s 2ms/step - loss: 419.4018 - val_loss: nan\n",
      "Epoch 174/200\n",
      "2470/2470 [==============================] - 4s 2ms/step - loss: 419.2857 - val_loss: nan\n",
      "Epoch 175/200\n",
      "2470/2470 [==============================] - 5s 2ms/step - loss: 419.1739 - val_loss: nan\n",
      "Epoch 176/200\n",
      "2470/2470 [==============================] - 4s 1ms/step - loss: 419.0158 - val_loss: nan\n",
      "Epoch 177/200\n",
      "2470/2470 [==============================] - 4s 2ms/step - loss: 419.0639 - val_loss: nan\n",
      "Epoch 178/200\n",
      "2470/2470 [==============================] - 5s 2ms/step - loss: 418.7807 - val_loss: nan\n",
      "Epoch 179/200\n",
      "2470/2470 [==============================] - 7s 3ms/step - loss: 418.8506 - val_loss: nan\n",
      "Epoch 180/200\n",
      "2470/2470 [==============================] - 5s 2ms/step - loss: 418.6431 - val_loss: nan\n",
      "Epoch 181/200\n",
      "2470/2470 [==============================] - 6s 3ms/step - loss: 418.6910 - val_loss: nan\n",
      "Epoch 182/200\n",
      "2470/2470 [==============================] - 5s 2ms/step - loss: 418.5085 - val_loss: nan\n",
      "Epoch 183/200\n",
      "2470/2470 [==============================] - 6s 2ms/step - loss: 418.4366 - val_loss: nan\n",
      "Epoch 184/200\n",
      "2470/2470 [==============================] - 6s 3ms/step - loss: 418.3279 - val_loss: nan\n",
      "Epoch 185/200\n",
      "2470/2470 [==============================] - 6s 2ms/step - loss: 418.2124 - val_loss: nan\n",
      "Epoch 186/200\n",
      "2470/2470 [==============================] - 6s 2ms/step - loss: 418.0871 - val_loss: nan\n",
      "Epoch 187/200\n",
      "2470/2470 [==============================] - 5s 2ms/step - loss: 418.1233 - val_loss: nan\n",
      "Epoch 188/200\n",
      "2470/2470 [==============================] - 5s 2ms/step - loss: 418.0137 - val_loss: nan\n",
      "Epoch 189/200\n",
      "2470/2470 [==============================] - 4s 2ms/step - loss: 417.9265 - val_loss: nan\n",
      "Epoch 190/200\n",
      "2470/2470 [==============================] - 5s 2ms/step - loss: 417.8002 - val_loss: nan\n",
      "Epoch 191/200\n",
      "2470/2470 [==============================] - 3s 1ms/step - loss: 417.8021 - val_loss: nan\n",
      "Epoch 192/200\n",
      "2470/2470 [==============================] - 5s 2ms/step - loss: 417.6327 - val_loss: nan\n",
      "Epoch 193/200\n",
      "2470/2470 [==============================] - 5s 2ms/step - loss: 417.4767 - val_loss: nan\n",
      "Epoch 194/200\n",
      "2470/2470 [==============================] - 5s 2ms/step - loss: 417.3711 - val_loss: nan\n",
      "Epoch 195/200\n",
      "2470/2470 [==============================] - 5s 2ms/step - loss: 417.4205 - val_loss: nan\n",
      "Epoch 196/200\n",
      "2470/2470 [==============================] - 5s 2ms/step - loss: 417.1961 - val_loss: nan\n",
      "Epoch 197/200\n",
      "2470/2470 [==============================] - 5s 2ms/step - loss: 417.0732 - val_loss: nan\n",
      "Epoch 198/200\n",
      "2470/2470 [==============================] - 6s 2ms/step - loss: 417.0423 - val_loss: nan\n",
      "Epoch 199/200\n",
      "2470/2470 [==============================] - 7s 3ms/step - loss: 417.0680 - val_loss: nan\n",
      "Epoch 200/200\n",
      "2470/2470 [==============================] - 4s 2ms/step - loss: 416.8858 - val_loss: nan\n"
     ]
    }
   ],
   "source": [
    "from keras.models import Sequential\n",
    "from keras.layers import Dense\n",
    "import keras.backend as K\n",
    "from keras.callbacks import EarlyStopping\n",
    "from keras.optimizers import Adam\n",
    "from keras.models import load_model\n",
    "from keras.layers import LSTM\n",
    "\n",
    "K.clear_session()\n",
    "\n",
    "model_lstm = Sequential()\n",
    "model_lstm.add(LSTM(16, input_shape=(1, X_train.shape[1]), activation='relu', return_sequences=False))\n",
    "model_lstm.add(Dense(1))\n",
    "\n",
    "model_lstm.compile(loss='mean_squared_error', optimizer='adam')\n",
    "early_stop = EarlyStopping(monitor='loss', patience=5, verbose=1)\n",
    "\n",
    "\n",
    "history_model_lstm = model_lstm.fit(X_tr_t, y_train, validation_data=(X_tst_t,y_test), epochs=200, batch_size=8, verbose=1, shuffle=False, callbacks=[early_stop])"
   ]
  },
  {
   "cell_type": "code",
   "execution_count": 28,
   "metadata": {},
   "outputs": [
    {
     "name": "stdout",
     "output_type": "stream",
     "text": [
      "The R2 score on the Train set is:\t0.994\n",
      "The R2 score on the Test set is:\t0.917\n"
     ]
    }
   ],
   "source": [
    "y_pred_test_lstm = model_lstm.predict(X_tst_t)\n",
    "y_train_pred_lstm = model_lstm.predict(X_tr_t)\n",
    "\n",
    "print(\"The R2 score on the Train set is:\\t{:0.3f}\".format(r2_score(y_train, y_train_pred_lstm)))\n",
    "r2_train = r2_score(y_train, y_train_pred_lstm)\n",
    "\n",
    "print(\"The R2 score on the Test set is:\\t{:0.3f}\".format(r2_score(y_test[:-1], y_pred_test_lstm[:-1])))\n",
    "r2_test = r2_score(y_test[:-1], y_pred_test_lstm[:-1])"
   ]
  },
  {
   "cell_type": "code",
   "execution_count": 28,
   "metadata": {},
   "outputs": [
    {
     "name": "stdout",
     "output_type": "stream",
     "text": [
      "LSTM: 662.216452\n"
     ]
    }
   ],
   "source": [
    "score_lstm= model_lstm.evaluate(X_tst_t[:-1], y_test[:-1], batch_size=1, verbose=0)\n",
    "print('LSTM: %f'%score_lstm)"
   ]
  },
  {
   "cell_type": "code",
   "execution_count": 30,
   "metadata": {},
   "outputs": [
    {
     "data": {
      "text/plain": [
       "array([164.0074], dtype=float32)"
      ]
     },
     "execution_count": 30,
     "metadata": {},
     "output_type": "execute_result"
    }
   ],
   "source": [
    "y_pred_test_LSTM= model_lstm.predict(X_tst_t)\n",
    "y_pred_test_LSTM[-1]"
   ]
  },
  {
   "cell_type": "code",
   "execution_count": 31,
   "metadata": {},
   "outputs": [
    {
     "data": {
      "image/png": "[encoded data removed]",
      "text/plain": [
       "<Figure size 432x288 with 1 Axes>"
      ]
     },
     "metadata": {
      "needs_background": "light"
     },
     "output_type": "display_data"
    }
   ],
   "source": [
    "plt.plot(y_test, label='True')\n",
    "plt.plot(y_pred_test_LSTM, label='LSTM')\n",
    "plt.title(\"LSTM's_Prediction\")\n",
    "plt.xlabel('Observation')\n",
    "plt.ylabel('INR_Scaled')\n",
    "plt.legend()\n",
    "plt.show()"
   ]
  },
  {
   "cell_type": "code",
   "execution_count": 31,
   "metadata": {},
   "outputs": [],
   "source": [
    "col1 = pd.DataFrame(y_test, columns=['True'])\n",
    "\n",
    "col2 = pd.DataFrame(y_pred_test_LSTM, columns=['LSTM_prediction'])\n",
    "\n",
    "col3 = pd.DataFrame(history_model_lstm.history['loss'], columns=['Loss_LSTM'])\n",
    "results = pd.concat([col1, col2, col3], axis=1)\n",
    "results.to_excel('PredictionResults_LSTM_NonShift.xlsx')"
   ]
  },
  {
   "cell_type": "code",
   "execution_count": 37,
   "metadata": {},
   "outputs": [
    {
     "name": "stdout",
     "output_type": "stream",
     "text": [
      "Train: 1604.589, Test: 662.217\n"
     ]
    }
   ],
   "source": [
    "# evaluate the model\n",
    "train_acc = model_lstm.evaluate(X_tr_t, y_train, verbose=0)\n",
    "test_acc = model_lstm.evaluate(X_tst_t[:-1], y_test[:-1], verbose=0)\n",
    "print('Train: %.3f, Test: %.3f' % (train_acc, test_acc))"
   ]
  },
  {
   "cell_type": "code",
   "execution_count": 40,
   "metadata": {},
   "outputs": [
    {
     "ename": "KeyError",
     "evalue": "'val_loss'",
     "output_type": "error",
     "traceback": [
      "\u001b[1;31m---------------------------------------------------------------------------\u001b[0m",
      "\u001b[1;31mKeyError\u001b[0m                                  Traceback (most recent call last)",
      "\u001b[1;32m<ipython-input-40-681151fd0359>\u001b[0m in \u001b[0;36m<module>\u001b[1;34m\u001b[0m\n\u001b[0;32m      4\u001b[0m \u001b[0mpyplot\u001b[0m\u001b[1;33m.\u001b[0m\u001b[0mtitle\u001b[0m\u001b[1;33m(\u001b[0m\u001b[1;34m'Loss'\u001b[0m\u001b[1;33m)\u001b[0m\u001b[1;33m\u001b[0m\u001b[1;33m\u001b[0m\u001b[0m\n\u001b[0;32m      5\u001b[0m \u001b[0mpyplot\u001b[0m\u001b[1;33m.\u001b[0m\u001b[0mplot\u001b[0m\u001b[1;33m(\u001b[0m\u001b[0mhistory_model_lstm\u001b[0m\u001b[1;33m.\u001b[0m\u001b[0mhistory\u001b[0m\u001b[1;33m[\u001b[0m\u001b[1;34m'loss'\u001b[0m\u001b[1;33m]\u001b[0m\u001b[1;33m,\u001b[0m \u001b[0mlabel\u001b[0m\u001b[1;33m=\u001b[0m\u001b[1;34m'train'\u001b[0m\u001b[1;33m)\u001b[0m\u001b[1;33m\u001b[0m\u001b[1;33m\u001b[0m\u001b[0m\n\u001b[1;32m----> 6\u001b[1;33m \u001b[0mpyplot\u001b[0m\u001b[1;33m.\u001b[0m\u001b[0mplot\u001b[0m\u001b[1;33m(\u001b[0m\u001b[0mhistory_model_lstm\u001b[0m\u001b[1;33m.\u001b[0m\u001b[0mhistory\u001b[0m\u001b[1;33m[\u001b[0m\u001b[1;34m'val_loss'\u001b[0m\u001b[1;33m]\u001b[0m\u001b[1;33m,\u001b[0m \u001b[0mlabel\u001b[0m\u001b[1;33m=\u001b[0m\u001b[1;34m'test'\u001b[0m\u001b[1;33m)\u001b[0m\u001b[1;33m\u001b[0m\u001b[1;33m\u001b[0m\u001b[0m\n\u001b[0m\u001b[0;32m      7\u001b[0m \u001b[0mpyplot\u001b[0m\u001b[1;33m.\u001b[0m\u001b[0mlegend\u001b[0m\u001b[1;33m(\u001b[0m\u001b[1;33m)\u001b[0m\u001b[1;33m\u001b[0m\u001b[1;33m\u001b[0m\u001b[0m\n\u001b[0;32m      8\u001b[0m \u001b[1;31m# plot accuracy during training\u001b[0m\u001b[1;33m\u001b[0m\u001b[1;33m\u001b[0m\u001b[1;33m\u001b[0m\u001b[0m\n",
      "\u001b[1;31mKeyError\u001b[0m: 'val_loss'"
     ]
    },
    {
     "data": {
      "image/png": "[encoded data removed]",
      "text/plain": [
       "<Figure size 432x288 with 1 Axes>"
      ]
     },
     "metadata": {
      "needs_background": "light"
     },
     "output_type": "display_data"
    }
   ],
   "source": [
    "# plot loss during training\n",
    "from matplotlib import pyplot\n",
    "pyplot.subplot(211)\n",
    "pyplot.title('Loss')\n",
    "pyplot.plot(history_model_lstm.history['loss'], label='train')\n",
    "pyplot.plot(history_model_lstm.history['val_loss'], label='test')\n",
    "pyplot.legend()\n",
    "# plot accuracy during training\n",
    "pyplot.subplot(212)\n",
    "pyplot.title('Accuracy')\n",
    "pyplot.plot(history_model_lstm.history['acc'], label='train')\n",
    "pyplot.plot(history_model_lstm.history['val_acc'], label='test')\n",
    "pyplot.legend()\n",
    "pyplot.show()"
   ]
  },
  {
   "cell_type": "code",
   "execution_count": 11,
   "metadata": {},
   "outputs": [],
   "source": [
    "import numpy as np\n",
    "l=np.array([[1,2]])"
   ]
  },
  {
   "cell_type": "code",
   "execution_count": 12,
   "metadata": {},
   "outputs": [],
   "source": [
    "result = l.flatten() "
   ]
  },
  {
   "cell_type": "code",
   "execution_count": 13,
   "metadata": {},
   "outputs": [
    {
     "data": {
      "text/plain": [
       "array([1, 2])"
      ]
     },
     "execution_count": 13,
     "metadata": {},
     "output_type": "execute_result"
    }
   ],
   "source": [
    "result"
   ]
  },
  {
   "cell_type": "code",
   "execution_count": 14,
   "metadata": {},
   "outputs": [
    {
     "data": {
      "text/plain": [
       "1"
      ]
     },
     "execution_count": 14,
     "metadata": {},
     "output_type": "execute_result"
    }
   ],
   "source": []
  },
  {
   "cell_type": "code",
   "execution_count": null,
   "metadata": {},
   "outputs": [],
   "source": []
  }
 ],
 "metadata": {
  "kernelspec": {
   "display_name": "Python 3",
   "language": "python",
   "name": "python3"
  },
  "language_info": {
   "codemirror_mode": {
    "name": "ipython",
    "version": 3
   },
   "file_extension": ".py",
   "mimetype": "text/x-python",
   "name": "python",
   "nbconvert_exporter": "python",
   "pygments_lexer": "ipython3",
   "version": "3.7.4"
  }
 },
 "nbformat": 4,
 "nbformat_minor": 2
}
