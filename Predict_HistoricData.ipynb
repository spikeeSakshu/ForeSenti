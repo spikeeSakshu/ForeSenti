{
 "cells": [
  {
   "cell_type": "code",
   "execution_count": 2,
   "metadata": {},
   "outputs": [],
   "source": [
    "import pandas as pd\n",
    "import numpy as np\n",
    "%matplotlib inline\n",
    "import matplotlib.pyplot as plt\n",
    "import matplotlib\n",
    "from sklearn.preprocessing import MinMaxScaler\n",
    "from keras.layers import LSTM,Dense,Dropout\n",
    "from sklearn.model_selection import TimeSeriesSplit\n",
    "from sklearn.metrics import mean_squared_error, r2_score\n",
    "import matplotlib.dates as mdates\n",
    "from sklearn import linear_model"
   ]
  },
  {
   "cell_type": "code",
   "execution_count": 3,
   "metadata": {},
   "outputs": [
    {
     "data": {
      "text/html": [
       "<div>\n",
       "<style scoped>\n",
       "    .dataframe tbody tr th:only-of-type {\n",
       "        vertical-align: middle;\n",
       "    }\n",
       "\n",
       "    .dataframe tbody tr th {\n",
       "        vertical-align: top;\n",
       "    }\n",
       "\n",
       "    .dataframe thead th {\n",
       "        text-align: right;\n",
       "    }\n",
       "</style>\n",
       "<table border=\"1\" class=\"dataframe\">\n",
       "  <thead>\n",
       "    <tr style=\"text-align: right;\">\n",
       "      <th></th>\n",
       "      <th>Symbol</th>\n",
       "      <th>Series</th>\n",
       "      <th>Prev Close</th>\n",
       "      <th>Open</th>\n",
       "      <th>High</th>\n",
       "      <th>Low</th>\n",
       "      <th>Last</th>\n",
       "      <th>Close</th>\n",
       "      <th>VWAP</th>\n",
       "      <th>Volume</th>\n",
       "      <th>Turnover</th>\n",
       "      <th>Trades</th>\n",
       "      <th>Deliverable Volume</th>\n",
       "      <th>%Deliverble</th>\n",
       "      <th>Date.1</th>\n",
       "    </tr>\n",
       "    <tr>\n",
       "      <th>Date</th>\n",
       "      <th></th>\n",
       "      <th></th>\n",
       "      <th></th>\n",
       "      <th></th>\n",
       "      <th></th>\n",
       "      <th></th>\n",
       "      <th></th>\n",
       "      <th></th>\n",
       "      <th></th>\n",
       "      <th></th>\n",
       "      <th></th>\n",
       "      <th></th>\n",
       "      <th></th>\n",
       "      <th></th>\n",
       "      <th></th>\n",
       "    </tr>\n",
       "  </thead>\n",
       "  <tbody>\n",
       "    <tr>\n",
       "      <th>2008-12-05</th>\n",
       "      <td>RELIANCE</td>\n",
       "      <td>EQ</td>\n",
       "      <td>1159.10</td>\n",
       "      <td>1175.0</td>\n",
       "      <td>1182.0</td>\n",
       "      <td>1103.00</td>\n",
       "      <td>1120.05</td>\n",
       "      <td>1117.60</td>\n",
       "      <td>1139.02</td>\n",
       "      <td>6679613</td>\n",
       "      <td>7.608186e+14</td>\n",
       "      <td>NaN</td>\n",
       "      <td>889986</td>\n",
       "      <td>0.1332</td>\n",
       "      <td>2008-12-05</td>\n",
       "    </tr>\n",
       "    <tr>\n",
       "      <th>2008-12-08</th>\n",
       "      <td>RELIANCE</td>\n",
       "      <td>EQ</td>\n",
       "      <td>1117.60</td>\n",
       "      <td>1152.2</td>\n",
       "      <td>1174.7</td>\n",
       "      <td>1107.00</td>\n",
       "      <td>1117.25</td>\n",
       "      <td>1118.55</td>\n",
       "      <td>1144.04</td>\n",
       "      <td>6965801</td>\n",
       "      <td>7.969165e+14</td>\n",
       "      <td>NaN</td>\n",
       "      <td>1751139</td>\n",
       "      <td>0.2514</td>\n",
       "      <td>2008-12-08</td>\n",
       "    </tr>\n",
       "    <tr>\n",
       "      <th>2008-12-10</th>\n",
       "      <td>RELIANCE</td>\n",
       "      <td>EQ</td>\n",
       "      <td>1118.55</td>\n",
       "      <td>1148.7</td>\n",
       "      <td>1234.0</td>\n",
       "      <td>1137.00</td>\n",
       "      <td>1223.00</td>\n",
       "      <td>1227.20</td>\n",
       "      <td>1188.02</td>\n",
       "      <td>7518930</td>\n",
       "      <td>8.932654e+14</td>\n",
       "      <td>NaN</td>\n",
       "      <td>1991852</td>\n",
       "      <td>0.2649</td>\n",
       "      <td>2008-12-10</td>\n",
       "    </tr>\n",
       "    <tr>\n",
       "      <th>2008-12-11</th>\n",
       "      <td>RELIANCE</td>\n",
       "      <td>EQ</td>\n",
       "      <td>1227.20</td>\n",
       "      <td>1250.0</td>\n",
       "      <td>1297.7</td>\n",
       "      <td>1193.30</td>\n",
       "      <td>1291.15</td>\n",
       "      <td>1259.00</td>\n",
       "      <td>1225.85</td>\n",
       "      <td>9088095</td>\n",
       "      <td>1.114063e+15</td>\n",
       "      <td>NaN</td>\n",
       "      <td>2517155</td>\n",
       "      <td>0.2770</td>\n",
       "      <td>2008-12-11</td>\n",
       "    </tr>\n",
       "    <tr>\n",
       "      <th>2008-12-12</th>\n",
       "      <td>RELIANCE</td>\n",
       "      <td>EQ</td>\n",
       "      <td>1259.00</td>\n",
       "      <td>1240.0</td>\n",
       "      <td>1324.0</td>\n",
       "      <td>1206.25</td>\n",
       "      <td>1310.20</td>\n",
       "      <td>1307.10</td>\n",
       "      <td>1273.48</td>\n",
       "      <td>9928592</td>\n",
       "      <td>1.264385e+15</td>\n",
       "      <td>NaN</td>\n",
       "      <td>2128688</td>\n",
       "      <td>0.2144</td>\n",
       "      <td>2008-12-12</td>\n",
       "    </tr>\n",
       "  </tbody>\n",
       "</table>\n",
       "</div>"
      ],
      "text/plain": [
       "              Symbol Series  Prev Close    Open    High      Low     Last  \\\n",
       "Date                                                                        \n",
       "2008-12-05  RELIANCE     EQ     1159.10  1175.0  1182.0  1103.00  1120.05   \n",
       "2008-12-08  RELIANCE     EQ     1117.60  1152.2  1174.7  1107.00  1117.25   \n",
       "2008-12-10  RELIANCE     EQ     1118.55  1148.7  1234.0  1137.00  1223.00   \n",
       "2008-12-11  RELIANCE     EQ     1227.20  1250.0  1297.7  1193.30  1291.15   \n",
       "2008-12-12  RELIANCE     EQ     1259.00  1240.0  1324.0  1206.25  1310.20   \n",
       "\n",
       "              Close     VWAP   Volume      Turnover  Trades  \\\n",
       "Date                                                          \n",
       "2008-12-05  1117.60  1139.02  6679613  7.608186e+14     NaN   \n",
       "2008-12-08  1118.55  1144.04  6965801  7.969165e+14     NaN   \n",
       "2008-12-10  1227.20  1188.02  7518930  8.932654e+14     NaN   \n",
       "2008-12-11  1259.00  1225.85  9088095  1.114063e+15     NaN   \n",
       "2008-12-12  1307.10  1273.48  9928592  1.264385e+15     NaN   \n",
       "\n",
       "            Deliverable Volume  %Deliverble      Date.1  \n",
       "Date                                                     \n",
       "2008-12-05              889986       0.1332  2008-12-05  \n",
       "2008-12-08             1751139       0.2514  2008-12-08  \n",
       "2008-12-10             1991852       0.2649  2008-12-10  \n",
       "2008-12-11             2517155       0.2770  2008-12-11  \n",
       "2008-12-12             2128688       0.2144  2008-12-12  "
      ]
     },
     "execution_count": 3,
     "metadata": {},
     "output_type": "execute_result"
    }
   ],
   "source": [
    "df = pd.read_csv(\"RELIANCE.csv\",na_values=['null'],index_col='Date',parse_dates=True,infer_datetime_format=True)\n",
    "df.head()"
   ]
  },
  {
   "cell_type": "code",
   "execution_count": 4,
   "metadata": {},
   "outputs": [],
   "source": [
    "columns=['Open', 'High', 'Low', 'Close', 'VWAP', 'Volume']"
   ]
  },
  {
   "cell_type": "code",
   "execution_count": 5,
   "metadata": {},
   "outputs": [
    {
     "data": {
      "text/html": [
       "<div>\n",
       "<style scoped>\n",
       "    .dataframe tbody tr th:only-of-type {\n",
       "        vertical-align: middle;\n",
       "    }\n",
       "\n",
       "    .dataframe tbody tr th {\n",
       "        vertical-align: top;\n",
       "    }\n",
       "\n",
       "    .dataframe thead th {\n",
       "        text-align: right;\n",
       "    }\n",
       "</style>\n",
       "<table border=\"1\" class=\"dataframe\">\n",
       "  <thead>\n",
       "    <tr style=\"text-align: right;\">\n",
       "      <th></th>\n",
       "      <th>Open</th>\n",
       "      <th>High</th>\n",
       "      <th>Low</th>\n",
       "      <th>Close</th>\n",
       "      <th>VWAP</th>\n",
       "      <th>Volume</th>\n",
       "    </tr>\n",
       "    <tr>\n",
       "      <th>Date</th>\n",
       "      <th></th>\n",
       "      <th></th>\n",
       "      <th></th>\n",
       "      <th></th>\n",
       "      <th></th>\n",
       "      <th></th>\n",
       "    </tr>\n",
       "  </thead>\n",
       "  <tbody>\n",
       "    <tr>\n",
       "      <th>2019-11-08</th>\n",
       "      <td>1449.00</td>\n",
       "      <td>1459.65</td>\n",
       "      <td>1441.30</td>\n",
       "      <td>1445.50</td>\n",
       "      <td>1448.50</td>\n",
       "      <td>5494844</td>\n",
       "    </tr>\n",
       "    <tr>\n",
       "      <th>2019-11-11</th>\n",
       "      <td>1439.10</td>\n",
       "      <td>1444.25</td>\n",
       "      <td>1422.55</td>\n",
       "      <td>1427.80</td>\n",
       "      <td>1431.40</td>\n",
       "      <td>5192423</td>\n",
       "    </tr>\n",
       "    <tr>\n",
       "      <th>2019-11-13</th>\n",
       "      <td>1430.00</td>\n",
       "      <td>1475.90</td>\n",
       "      <td>1430.00</td>\n",
       "      <td>1472.30</td>\n",
       "      <td>1460.74</td>\n",
       "      <td>11532364</td>\n",
       "    </tr>\n",
       "    <tr>\n",
       "      <th>2019-11-14</th>\n",
       "      <td>1476.00</td>\n",
       "      <td>1481.60</td>\n",
       "      <td>1455.80</td>\n",
       "      <td>1462.75</td>\n",
       "      <td>1466.92</td>\n",
       "      <td>6518339</td>\n",
       "    </tr>\n",
       "    <tr>\n",
       "      <th>2019-11-15</th>\n",
       "      <td>1465.65</td>\n",
       "      <td>1486.80</td>\n",
       "      <td>1463.15</td>\n",
       "      <td>1470.85</td>\n",
       "      <td>1476.84</td>\n",
       "      <td>7173674</td>\n",
       "    </tr>\n",
       "  </tbody>\n",
       "</table>\n",
       "</div>"
      ],
      "text/plain": [
       "               Open     High      Low    Close     VWAP    Volume\n",
       "Date                                                             \n",
       "2019-11-08  1449.00  1459.65  1441.30  1445.50  1448.50   5494844\n",
       "2019-11-11  1439.10  1444.25  1422.55  1427.80  1431.40   5192423\n",
       "2019-11-13  1430.00  1475.90  1430.00  1472.30  1460.74  11532364\n",
       "2019-11-14  1476.00  1481.60  1455.80  1462.75  1466.92   6518339\n",
       "2019-11-15  1465.65  1486.80  1463.15  1470.85  1476.84   7173674"
      ]
     },
     "execution_count": 5,
     "metadata": {},
     "output_type": "execute_result"
    }
   ],
   "source": [
    "df_final= df[columns]\n",
    "df_final.tail()"
   ]
  },
  {
   "cell_type": "code",
   "execution_count": 6,
   "metadata": {},
   "outputs": [
    {
     "data": {
      "text/html": [
       "<div>\n",
       "<style scoped>\n",
       "    .dataframe tbody tr th:only-of-type {\n",
       "        vertical-align: middle;\n",
       "    }\n",
       "\n",
       "    .dataframe tbody tr th {\n",
       "        vertical-align: top;\n",
       "    }\n",
       "\n",
       "    .dataframe thead th {\n",
       "        text-align: right;\n",
       "    }\n",
       "</style>\n",
       "<table border=\"1\" class=\"dataframe\">\n",
       "  <thead>\n",
       "    <tr style=\"text-align: right;\">\n",
       "      <th></th>\n",
       "      <th>Open</th>\n",
       "      <th>High</th>\n",
       "      <th>Low</th>\n",
       "      <th>Close</th>\n",
       "      <th>VWAP</th>\n",
       "      <th>Volume</th>\n",
       "    </tr>\n",
       "  </thead>\n",
       "  <tbody>\n",
       "    <tr>\n",
       "      <th>count</th>\n",
       "      <td>2710.000000</td>\n",
       "      <td>2710.000000</td>\n",
       "      <td>2710.000000</td>\n",
       "      <td>2710.000000</td>\n",
       "      <td>2710.000000</td>\n",
       "      <td>2.710000e+03</td>\n",
       "    </tr>\n",
       "    <tr>\n",
       "      <th>mean</th>\n",
       "      <td>1061.642565</td>\n",
       "      <td>1074.778561</td>\n",
       "      <td>1047.887897</td>\n",
       "      <td>1060.750904</td>\n",
       "      <td>1061.325845</td>\n",
       "      <td>4.762714e+06</td>\n",
       "    </tr>\n",
       "    <tr>\n",
       "      <th>std</th>\n",
       "      <td>303.228074</td>\n",
       "      <td>309.570366</td>\n",
       "      <td>296.374499</td>\n",
       "      <td>302.737295</td>\n",
       "      <td>302.671508</td>\n",
       "      <td>3.226612e+06</td>\n",
       "    </tr>\n",
       "    <tr>\n",
       "      <th>min</th>\n",
       "      <td>675.000000</td>\n",
       "      <td>682.800000</td>\n",
       "      <td>673.050000</td>\n",
       "      <td>676.100000</td>\n",
       "      <td>676.940000</td>\n",
       "      <td>5.282000e+04</td>\n",
       "    </tr>\n",
       "    <tr>\n",
       "      <th>25%</th>\n",
       "      <td>872.925000</td>\n",
       "      <td>882.862500</td>\n",
       "      <td>861.437500</td>\n",
       "      <td>872.450000</td>\n",
       "      <td>872.192500</td>\n",
       "      <td>2.814556e+06</td>\n",
       "    </tr>\n",
       "    <tr>\n",
       "      <th>50%</th>\n",
       "      <td>987.100000</td>\n",
       "      <td>996.300000</td>\n",
       "      <td>976.900000</td>\n",
       "      <td>985.875000</td>\n",
       "      <td>986.830000</td>\n",
       "      <td>3.947585e+06</td>\n",
       "    </tr>\n",
       "    <tr>\n",
       "      <th>75%</th>\n",
       "      <td>1107.712500</td>\n",
       "      <td>1122.750000</td>\n",
       "      <td>1092.075000</td>\n",
       "      <td>1105.000000</td>\n",
       "      <td>1107.562500</td>\n",
       "      <td>5.718546e+06</td>\n",
       "    </tr>\n",
       "    <tr>\n",
       "      <th>max</th>\n",
       "      <td>2450.000000</td>\n",
       "      <td>2535.000000</td>\n",
       "      <td>2305.250000</td>\n",
       "      <td>2367.550000</td>\n",
       "      <td>2355.290000</td>\n",
       "      <td>4.792344e+07</td>\n",
       "    </tr>\n",
       "  </tbody>\n",
       "</table>\n",
       "</div>"
      ],
      "text/plain": [
       "              Open         High          Low        Close         VWAP  \\\n",
       "count  2710.000000  2710.000000  2710.000000  2710.000000  2710.000000   \n",
       "mean   1061.642565  1074.778561  1047.887897  1060.750904  1061.325845   \n",
       "std     303.228074   309.570366   296.374499   302.737295   302.671508   \n",
       "min     675.000000   682.800000   673.050000   676.100000   676.940000   \n",
       "25%     872.925000   882.862500   861.437500   872.450000   872.192500   \n",
       "50%     987.100000   996.300000   976.900000   985.875000   986.830000   \n",
       "75%    1107.712500  1122.750000  1092.075000  1105.000000  1107.562500   \n",
       "max    2450.000000  2535.000000  2305.250000  2367.550000  2355.290000   \n",
       "\n",
       "             Volume  \n",
       "count  2.710000e+03  \n",
       "mean   4.762714e+06  \n",
       "std    3.226612e+06  \n",
       "min    5.282000e+04  \n",
       "25%    2.814556e+06  \n",
       "50%    3.947585e+06  \n",
       "75%    5.718546e+06  \n",
       "max    4.792344e+07  "
      ]
     },
     "execution_count": 6,
     "metadata": {},
     "output_type": "execute_result"
    }
   ],
   "source": [
    "df_final.describe()"
   ]
  },
  {
   "cell_type": "code",
   "execution_count": 7,
   "metadata": {},
   "outputs": [
    {
     "data": {
      "text/plain": [
       "False"
      ]
     },
     "execution_count": 7,
     "metadata": {},
     "output_type": "execute_result"
    }
   ],
   "source": [
    "df_final.isnull().values.any()"
   ]
  },
  {
   "cell_type": "code",
   "execution_count": 8,
   "metadata": {},
   "outputs": [
    {
     "data": {
      "text/plain": [
       "<matplotlib.axes._subplots.AxesSubplot at 0x1f4515d1b48>"
      ]
     },
     "execution_count": 8,
     "metadata": {},
     "output_type": "execute_result"
    },
    {
     "data": {
      "image/png": "[encoded data removed]",
      "text/plain": [
       "<Figure size 432x288 with 1 Axes>"
      ]
     },
     "metadata": {
      "needs_background": "light"
     },
     "output_type": "display_data"
    }
   ],
   "source": [
    "df_final['VWAP'].plot()"
   ]
  },
  {
   "cell_type": "code",
   "execution_count": 9,
   "metadata": {},
   "outputs": [
    {
     "data": {
      "text/plain": [
       "<matplotlib.axes._subplots.AxesSubplot at 0x1f4539f0988>"
      ]
     },
     "execution_count": 9,
     "metadata": {},
     "output_type": "execute_result"
    },
    {
     "data": {
      "image/png": "[encoded data removed]",
      "text/plain": [
       "<Figure size 1080x576 with 1 Axes>"
      ]
     },
     "metadata": {
      "needs_background": "light"
     },
     "output_type": "display_data"
    }
   ],
   "source": [
    "# Plotting Correlation of \"Churn\" with predictors\n",
    "plt.figure(figsize=(15,8))\n",
    "df_final.corr()['VWAP'].sort_values(ascending = False).plot(kind='bar')"
   ]
  },
  {
   "cell_type": "code",
   "execution_count": 10,
   "metadata": {},
   "outputs": [
    {
     "data": {
      "text/html": [
       "<div>\n",
       "<style scoped>\n",
       "    .dataframe tbody tr th:only-of-type {\n",
       "        vertical-align: middle;\n",
       "    }\n",
       "\n",
       "    .dataframe tbody tr th {\n",
       "        vertical-align: top;\n",
       "    }\n",
       "\n",
       "    .dataframe thead th {\n",
       "        text-align: right;\n",
       "    }\n",
       "</style>\n",
       "<table border=\"1\" class=\"dataframe\">\n",
       "  <thead>\n",
       "    <tr style=\"text-align: right;\">\n",
       "      <th></th>\n",
       "      <th>Open</th>\n",
       "      <th>High</th>\n",
       "      <th>Low</th>\n",
       "      <th>Close</th>\n",
       "      <th>VWAP</th>\n",
       "      <th>Volume</th>\n",
       "    </tr>\n",
       "    <tr>\n",
       "      <th>Date</th>\n",
       "      <th></th>\n",
       "      <th></th>\n",
       "      <th></th>\n",
       "      <th></th>\n",
       "      <th></th>\n",
       "      <th></th>\n",
       "    </tr>\n",
       "  </thead>\n",
       "  <tbody>\n",
       "    <tr>\n",
       "      <th>2008-12-05</th>\n",
       "      <td>1175.0</td>\n",
       "      <td>1182.0</td>\n",
       "      <td>1103.00</td>\n",
       "      <td>1117.60</td>\n",
       "      <td>1139.02</td>\n",
       "      <td>6679613</td>\n",
       "    </tr>\n",
       "    <tr>\n",
       "      <th>2008-12-08</th>\n",
       "      <td>1152.2</td>\n",
       "      <td>1174.7</td>\n",
       "      <td>1107.00</td>\n",
       "      <td>1118.55</td>\n",
       "      <td>1144.04</td>\n",
       "      <td>6965801</td>\n",
       "    </tr>\n",
       "    <tr>\n",
       "      <th>2008-12-10</th>\n",
       "      <td>1148.7</td>\n",
       "      <td>1234.0</td>\n",
       "      <td>1137.00</td>\n",
       "      <td>1227.20</td>\n",
       "      <td>1188.02</td>\n",
       "      <td>7518930</td>\n",
       "    </tr>\n",
       "    <tr>\n",
       "      <th>2008-12-11</th>\n",
       "      <td>1250.0</td>\n",
       "      <td>1297.7</td>\n",
       "      <td>1193.30</td>\n",
       "      <td>1259.00</td>\n",
       "      <td>1225.85</td>\n",
       "      <td>9088095</td>\n",
       "    </tr>\n",
       "    <tr>\n",
       "      <th>2008-12-12</th>\n",
       "      <td>1240.0</td>\n",
       "      <td>1324.0</td>\n",
       "      <td>1206.25</td>\n",
       "      <td>1307.10</td>\n",
       "      <td>1273.48</td>\n",
       "      <td>9928592</td>\n",
       "    </tr>\n",
       "  </tbody>\n",
       "</table>\n",
       "</div>"
      ],
      "text/plain": [
       "              Open    High      Low    Close     VWAP   Volume\n",
       "Date                                                          \n",
       "2008-12-05  1175.0  1182.0  1103.00  1117.60  1139.02  6679613\n",
       "2008-12-08  1152.2  1174.7  1107.00  1118.55  1144.04  6965801\n",
       "2008-12-10  1148.7  1234.0  1137.00  1227.20  1188.02  7518930\n",
       "2008-12-11  1250.0  1297.7  1193.30  1259.00  1225.85  9088095\n",
       "2008-12-12  1240.0  1324.0  1206.25  1307.10  1273.48  9928592"
      ]
     },
     "execution_count": 10,
     "metadata": {},
     "output_type": "execute_result"
    }
   ],
   "source": [
    "test = df_final\n",
    "# Target column\n",
    "target = pd.DataFrame(test['VWAP'])\n",
    "test.head()"
   ]
  },
  {
   "cell_type": "code",
   "execution_count": 11,
   "metadata": {},
   "outputs": [],
   "source": [
    "# selecting Feature Columns\n",
    "feature_columns = ['Open', 'High', 'Low', 'Close', 'Volume']"
   ]
  },
  {
   "cell_type": "code",
   "execution_count": 12,
   "metadata": {},
   "outputs": [
    {
     "data": {
      "text/html": [
       "<div>\n",
       "<style scoped>\n",
       "    .dataframe tbody tr th:only-of-type {\n",
       "        vertical-align: middle;\n",
       "    }\n",
       "\n",
       "    .dataframe tbody tr th {\n",
       "        vertical-align: top;\n",
       "    }\n",
       "\n",
       "    .dataframe thead th {\n",
       "        text-align: right;\n",
       "    }\n",
       "</style>\n",
       "<table border=\"1\" class=\"dataframe\">\n",
       "  <thead>\n",
       "    <tr style=\"text-align: right;\">\n",
       "      <th></th>\n",
       "      <th>Open</th>\n",
       "      <th>High</th>\n",
       "      <th>Low</th>\n",
       "      <th>Close</th>\n",
       "      <th>Volume</th>\n",
       "    </tr>\n",
       "    <tr>\n",
       "      <th>Date</th>\n",
       "      <th></th>\n",
       "      <th></th>\n",
       "      <th></th>\n",
       "      <th></th>\n",
       "      <th></th>\n",
       "    </tr>\n",
       "  </thead>\n",
       "  <tbody>\n",
       "    <tr>\n",
       "      <th>2008-12-05</th>\n",
       "      <td>0.281690</td>\n",
       "      <td>0.269517</td>\n",
       "      <td>0.263417</td>\n",
       "      <td>0.261019</td>\n",
       "      <td>0.138431</td>\n",
       "    </tr>\n",
       "    <tr>\n",
       "      <th>2008-12-08</th>\n",
       "      <td>0.268845</td>\n",
       "      <td>0.265576</td>\n",
       "      <td>0.265868</td>\n",
       "      <td>0.261580</td>\n",
       "      <td>0.144410</td>\n",
       "    </tr>\n",
       "    <tr>\n",
       "      <th>2008-12-10</th>\n",
       "      <td>0.266873</td>\n",
       "      <td>0.297592</td>\n",
       "      <td>0.284248</td>\n",
       "      <td>0.325815</td>\n",
       "      <td>0.155964</td>\n",
       "    </tr>\n",
       "    <tr>\n",
       "      <th>2008-12-11</th>\n",
       "      <td>0.323944</td>\n",
       "      <td>0.331984</td>\n",
       "      <td>0.318742</td>\n",
       "      <td>0.344616</td>\n",
       "      <td>0.188744</td>\n",
       "    </tr>\n",
       "    <tr>\n",
       "      <th>2008-12-12</th>\n",
       "      <td>0.318310</td>\n",
       "      <td>0.346183</td>\n",
       "      <td>0.326676</td>\n",
       "      <td>0.373053</td>\n",
       "      <td>0.206301</td>\n",
       "    </tr>\n",
       "  </tbody>\n",
       "</table>\n",
       "</div>"
      ],
      "text/plain": [
       "                Open      High       Low     Close    Volume\n",
       "Date                                                        \n",
       "2008-12-05  0.281690  0.269517  0.263417  0.261019  0.138431\n",
       "2008-12-08  0.268845  0.265576  0.265868  0.261580  0.144410\n",
       "2008-12-10  0.266873  0.297592  0.284248  0.325815  0.155964\n",
       "2008-12-11  0.323944  0.331984  0.318742  0.344616  0.188744\n",
       "2008-12-12  0.318310  0.346183  0.326676  0.373053  0.206301"
      ]
     },
     "execution_count": 12,
     "metadata": {},
     "output_type": "execute_result"
    }
   ],
   "source": [
    "scaler = MinMaxScaler()\n",
    "feature_minmax_transform_data = scaler.fit_transform(test[feature_columns])\n",
    "feature_minmax_transform = pd.DataFrame(columns=feature_columns, data=feature_minmax_transform_data, index=test.index)\n",
    "feature_minmax_transform.head()"
   ]
  },
  {
   "cell_type": "code",
   "execution_count": 13,
   "metadata": {},
   "outputs": [
    {
     "name": "stdout",
     "output_type": "stream",
     "text": [
      "Shape of features :  (2710, 5)\n",
      "Shape of target :  (2710, 1)\n"
     ]
    }
   ],
   "source": [
    "print('Shape of features : ', feature_minmax_transform.shape)\n",
    "print('Shape of target : ', target.shape)"
   ]
  },
  {
   "cell_type": "code",
   "execution_count": 14,
   "metadata": {},
   "outputs": [],
   "source": [
    "# Shift target array because we want to predict the n + 1 day value\n",
    "target = target.shift(-1)\n",
    "validation_y = target[-90:-1]\n",
    "target = target[:-90]"
   ]
  },
  {
   "cell_type": "code",
   "execution_count": 15,
   "metadata": {},
   "outputs": [
    {
     "data": {
      "text/html": [
       "<div>\n",
       "<style scoped>\n",
       "    .dataframe tbody tr th:only-of-type {\n",
       "        vertical-align: middle;\n",
       "    }\n",
       "\n",
       "    .dataframe tbody tr th {\n",
       "        vertical-align: top;\n",
       "    }\n",
       "\n",
       "    .dataframe thead th {\n",
       "        text-align: right;\n",
       "    }\n",
       "</style>\n",
       "<table border=\"1\" class=\"dataframe\">\n",
       "  <thead>\n",
       "    <tr style=\"text-align: right;\">\n",
       "      <th></th>\n",
       "      <th>Open</th>\n",
       "      <th>High</th>\n",
       "      <th>Low</th>\n",
       "      <th>Close</th>\n",
       "      <th>Volume</th>\n",
       "    </tr>\n",
       "    <tr>\n",
       "      <th>Date</th>\n",
       "      <th></th>\n",
       "      <th></th>\n",
       "      <th></th>\n",
       "      <th></th>\n",
       "      <th></th>\n",
       "    </tr>\n",
       "  </thead>\n",
       "  <tbody>\n",
       "    <tr>\n",
       "      <th>2019-11-07</th>\n",
       "      <td>0.428169</td>\n",
       "      <td>0.421229</td>\n",
       "      <td>0.465108</td>\n",
       "      <td>0.462621</td>\n",
       "      <td>0.133400</td>\n",
       "    </tr>\n",
       "    <tr>\n",
       "      <th>2019-11-08</th>\n",
       "      <td>0.436056</td>\n",
       "      <td>0.419420</td>\n",
       "      <td>0.470684</td>\n",
       "      <td>0.454876</td>\n",
       "      <td>0.113682</td>\n",
       "    </tr>\n",
       "    <tr>\n",
       "      <th>2019-11-11</th>\n",
       "      <td>0.430479</td>\n",
       "      <td>0.411106</td>\n",
       "      <td>0.459196</td>\n",
       "      <td>0.444412</td>\n",
       "      <td>0.107364</td>\n",
       "    </tr>\n",
       "    <tr>\n",
       "      <th>2019-11-13</th>\n",
       "      <td>0.425352</td>\n",
       "      <td>0.428193</td>\n",
       "      <td>0.463761</td>\n",
       "      <td>0.470720</td>\n",
       "      <td>0.239804</td>\n",
       "    </tr>\n",
       "    <tr>\n",
       "      <th>2019-11-14</th>\n",
       "      <td>0.451268</td>\n",
       "      <td>0.431271</td>\n",
       "      <td>0.479567</td>\n",
       "      <td>0.465074</td>\n",
       "      <td>0.135062</td>\n",
       "    </tr>\n",
       "  </tbody>\n",
       "</table>\n",
       "</div>"
      ],
      "text/plain": [
       "                Open      High       Low     Close    Volume\n",
       "Date                                                        \n",
       "2019-11-07  0.428169  0.421229  0.465108  0.462621  0.133400\n",
       "2019-11-08  0.436056  0.419420  0.470684  0.454876  0.113682\n",
       "2019-11-11  0.430479  0.411106  0.459196  0.444412  0.107364\n",
       "2019-11-13  0.425352  0.428193  0.463761  0.470720  0.239804\n",
       "2019-11-14  0.451268  0.431271  0.479567  0.465074  0.135062"
      ]
     },
     "metadata": {},
     "output_type": "display_data"
    },
    {
     "data": {
      "text/html": [
       "<div>\n",
       "<style scoped>\n",
       "    .dataframe tbody tr th:only-of-type {\n",
       "        vertical-align: middle;\n",
       "    }\n",
       "\n",
       "    .dataframe tbody tr th {\n",
       "        vertical-align: top;\n",
       "    }\n",
       "\n",
       "    .dataframe thead th {\n",
       "        text-align: right;\n",
       "    }\n",
       "</style>\n",
       "<table border=\"1\" class=\"dataframe\">\n",
       "  <thead>\n",
       "    <tr style=\"text-align: right;\">\n",
       "      <th></th>\n",
       "      <th>VWAP</th>\n",
       "    </tr>\n",
       "    <tr>\n",
       "      <th>Date</th>\n",
       "      <th></th>\n",
       "    </tr>\n",
       "  </thead>\n",
       "  <tbody>\n",
       "    <tr>\n",
       "      <th>2019-11-07</th>\n",
       "      <td>1448.50</td>\n",
       "    </tr>\n",
       "    <tr>\n",
       "      <th>2019-11-08</th>\n",
       "      <td>1431.40</td>\n",
       "    </tr>\n",
       "    <tr>\n",
       "      <th>2019-11-11</th>\n",
       "      <td>1460.74</td>\n",
       "    </tr>\n",
       "    <tr>\n",
       "      <th>2019-11-13</th>\n",
       "      <td>1466.92</td>\n",
       "    </tr>\n",
       "    <tr>\n",
       "      <th>2019-11-14</th>\n",
       "      <td>1476.84</td>\n",
       "    </tr>\n",
       "  </tbody>\n",
       "</table>\n",
       "</div>"
      ],
      "text/plain": [
       "               VWAP\n",
       "Date               \n",
       "2019-11-07  1448.50\n",
       "2019-11-08  1431.40\n",
       "2019-11-11  1460.74\n",
       "2019-11-13  1466.92\n",
       "2019-11-14  1476.84"
      ]
     },
     "metadata": {},
     "output_type": "display_data"
    }
   ],
   "source": [
    "# Taking last 90 rows of data to be validation set\n",
    "validation_X = feature_minmax_transform[-90:-1]\n",
    "feature_minmax_transform = feature_minmax_transform[:-90]\n",
    "display(validation_X.tail())\n",
    "display(validation_y.tail())"
   ]
  },
  {
   "cell_type": "code",
   "execution_count": 16,
   "metadata": {},
   "outputs": [
    {
     "name": "stdout",
     "output_type": "stream",
     "text": [
      "\n",
      " -----After process------ \n",
      "\n",
      "Shape of features :  (2620, 5)\n",
      "Shape of target :  (2620, 1)\n"
     ]
    },
    {
     "data": {
      "text/html": [
       "<div>\n",
       "<style scoped>\n",
       "    .dataframe tbody tr th:only-of-type {\n",
       "        vertical-align: middle;\n",
       "    }\n",
       "\n",
       "    .dataframe tbody tr th {\n",
       "        vertical-align: top;\n",
       "    }\n",
       "\n",
       "    .dataframe thead th {\n",
       "        text-align: right;\n",
       "    }\n",
       "</style>\n",
       "<table border=\"1\" class=\"dataframe\">\n",
       "  <thead>\n",
       "    <tr style=\"text-align: right;\">\n",
       "      <th></th>\n",
       "      <th>VWAP</th>\n",
       "    </tr>\n",
       "    <tr>\n",
       "      <th>Date</th>\n",
       "      <th></th>\n",
       "    </tr>\n",
       "  </thead>\n",
       "  <tbody>\n",
       "    <tr>\n",
       "      <th>2019-06-26</th>\n",
       "      <td>1281.11</td>\n",
       "    </tr>\n",
       "    <tr>\n",
       "      <th>2019-06-27</th>\n",
       "      <td>1261.89</td>\n",
       "    </tr>\n",
       "    <tr>\n",
       "      <th>2019-06-28</th>\n",
       "      <td>1263.04</td>\n",
       "    </tr>\n",
       "    <tr>\n",
       "      <th>2019-07-01</th>\n",
       "      <td>1272.92</td>\n",
       "    </tr>\n",
       "    <tr>\n",
       "      <th>2019-07-02</th>\n",
       "      <td>1281.62</td>\n",
       "    </tr>\n",
       "  </tbody>\n",
       "</table>\n",
       "</div>"
      ],
      "text/plain": [
       "               VWAP\n",
       "Date               \n",
       "2019-06-26  1281.11\n",
       "2019-06-27  1261.89\n",
       "2019-06-28  1263.04\n",
       "2019-07-01  1272.92\n",
       "2019-07-02  1281.62"
      ]
     },
     "metadata": {},
     "output_type": "display_data"
    }
   ],
   "source": [
    "print(\"\\n -----After process------ \\n\")\n",
    "print('Shape of features : ', feature_minmax_transform.shape)\n",
    "print('Shape of target : ', target.shape)\n",
    "display(target.tail())"
   ]
  },
  {
   "cell_type": "code",
   "execution_count": 17,
   "metadata": {},
   "outputs": [],
   "source": [
    "ts_split= TimeSeriesSplit(n_splits=10)\n",
    "for train_index, test_index in ts_split.split(feature_minmax_transform):\n",
    "        X_train, X_test = feature_minmax_transform[:len(train_index)], feature_minmax_transform[len(train_index): (len(train_index)+len(test_index))]\n",
    "        y_train, y_test = target[:len(train_index)].values.ravel(), target[len(train_index): (len(train_index)+len(test_index))].values.ravel()"
   ]
  },
  {
   "cell_type": "code",
   "execution_count": 18,
   "metadata": {},
   "outputs": [
    {
     "data": {
      "text/plain": [
       "(2382, 5)"
      ]
     },
     "execution_count": 18,
     "metadata": {},
     "output_type": "execute_result"
    }
   ],
   "source": [
    "X_train.shape"
   ]
  },
  {
   "cell_type": "code",
   "execution_count": 19,
   "metadata": {},
   "outputs": [
    {
     "data": {
      "text/plain": [
       "(238, 5)"
      ]
     },
     "execution_count": 19,
     "metadata": {},
     "output_type": "execute_result"
    }
   ],
   "source": [
    "X_test.shape"
   ]
  },
  {
   "cell_type": "code",
   "execution_count": 20,
   "metadata": {},
   "outputs": [
    {
     "data": {
      "text/plain": [
       "(2382,)"
      ]
     },
     "execution_count": 20,
     "metadata": {},
     "output_type": "execute_result"
    }
   ],
   "source": [
    "y_train.shape"
   ]
  },
  {
   "cell_type": "code",
   "execution_count": 21,
   "metadata": {},
   "outputs": [
    {
     "data": {
      "text/plain": [
       "(238,)"
      ]
     },
     "execution_count": 21,
     "metadata": {},
     "output_type": "execute_result"
    }
   ],
   "source": [
    "y_test.shape"
   ]
  },
  {
   "cell_type": "code",
   "execution_count": 22,
   "metadata": {},
   "outputs": [],
   "source": [
    "def validate_result(model, model_name):\n",
    "    predicted = model.predict(validation_X)\n",
    "    RSME_score = np.sqrt(mean_squared_error(validation_y, predicted))\n",
    "    print('RMSE: ', RSME_score)\n",
    "    \n",
    "    R2_score = r2_score(validation_y, predicted)\n",
    "    print('R2 score: ', R2_score)\n",
    "\n",
    "    plt.plot(validation_y.index, predicted,'r', label='Predict')\n",
    "    plt.plot(validation_y.index, validation_y,'b', label='Actual')\n",
    "    plt.ylabel('Price')\n",
    "    \n",
    "    plt.gca().xaxis.set_major_formatter(mdates.DateFormatter('%Y-%m-%d'))\n",
    "    plt.gca().xaxis.set_major_locator(mdates.MonthLocator())\n",
    "    \n",
    "    plt.title(model_name + ' Predict vs Actual')\n",
    "    plt.legend(loc='upper right')\n",
    "    plt.show()"
   ]
  },
  {
   "cell_type": "code",
   "execution_count": 23,
   "metadata": {},
   "outputs": [],
   "source": [
    "X_train =np.array(X_train)\n",
    "X_test =np.array(X_test)\n",
    "\n",
    "X_tr_t = X_train.reshape(X_train.shape[0], 1, X_train.shape[1])\n",
    "X_tst_t = X_test.reshape(X_test.shape[0], 1, X_test.shape[1])"
   ]
  },
  {
   "cell_type": "code",
   "execution_count": 32,
   "metadata": {},
   "outputs": [
    {
     "name": "stdout",
     "output_type": "stream",
     "text": [
      "Epoch 1/100\n",
      "2382/2382 [==============================] - 2s 889us/step - loss: 1170909.9528\n",
      "Epoch 2/100\n",
      "2382/2382 [==============================] - 2s 741us/step - loss: 1163197.3020\n",
      "Epoch 3/100\n",
      "2382/2382 [==============================] - 2s 964us/step - loss: 1144772.9581\n",
      "Epoch 4/100\n",
      "2382/2382 [==============================] - 2s 951us/step - loss: 1112852.6051\n",
      "Epoch 5/100\n",
      "2382/2382 [==============================] - 2s 964us/step - loss: 1072285.9127\n",
      "Epoch 6/100\n",
      "2382/2382 [==============================] - 2s 991us/step - loss: 1027906.9074\n",
      "Epoch 7/100\n",
      "2382/2382 [==============================] - 2s 932us/step - loss: 979759.7513\n",
      "Epoch 8/100\n",
      "2382/2382 [==============================] - 2s 971us/step - loss: 928328.8917\n",
      "Epoch 9/100\n",
      "2382/2382 [==============================] - 2s 964us/step - loss: 874248.5241\n",
      "Epoch 10/100\n",
      "2382/2382 [==============================] - 2s 925us/step - loss: 818208.9010\n",
      "Epoch 11/100\n",
      "2382/2382 [==============================] - 2s 932us/step - loss: 760851.6722\n",
      "Epoch 12/100\n",
      "2382/2382 [==============================] - 2s 932us/step - loss: 702790.1143\n",
      "Epoch 13/100\n",
      "2382/2382 [==============================] - 2s 958us/step - loss: 644586.0735\n",
      "Epoch 14/100\n",
      "2382/2382 [==============================] - 2s 938us/step - loss: 586772.8251\n",
      "Epoch 15/100\n",
      "2382/2382 [==============================] - 2s 925us/step - loss: 529857.0019\n",
      "Epoch 16/100\n",
      "2382/2382 [==============================] - 2s 932us/step - loss: 474316.0782\n",
      "Epoch 17/100\n",
      "2382/2382 [==============================] - 2s 951us/step - loss: 420599.3262\n",
      "Epoch 18/100\n",
      "2382/2382 [==============================] - 2s 925us/step - loss: 369125.3500\n",
      "Epoch 19/100\n",
      "2382/2382 [==============================] - 2s 938us/step - loss: 320280.9772\n",
      "Epoch 20/100\n",
      "2382/2382 [==============================] - 2s 925us/step - loss: 274417.5138\n",
      "Epoch 21/100\n",
      "2382/2382 [==============================] - 2s 938us/step - loss: 231846.2437\n",
      "Epoch 22/100\n",
      "2382/2382 [==============================] - 2s 931us/step - loss: 192832.9328\n",
      "Epoch 23/100\n",
      "2382/2382 [==============================] - 2s 932us/step - loss: 157590.0230\n",
      "Epoch 24/100\n",
      "2382/2382 [==============================] - 2s 997us/step - loss: 126269.3641\n",
      "Epoch 25/100\n",
      "2382/2382 [==============================] - 2s 945us/step - loss: 98952.7977\n",
      "Epoch 26/100\n",
      "2382/2382 [==============================] - 2s 977us/step - loss: 75643.6949\n",
      "Epoch 27/100\n",
      "2382/2382 [==============================] - 2s 945us/step - loss: 56257.1633\n",
      "Epoch 28/100\n",
      "2382/2382 [==============================] - 2s 958us/step - loss: 40613.6142\n",
      "Epoch 29/100\n",
      "2382/2382 [==============================] - 2s 951us/step - loss: 28436.2743\n",
      "Epoch 30/100\n",
      "2382/2382 [==============================] - 2s 938us/step - loss: 19354.4378\n",
      "Epoch 31/100\n",
      "2382/2382 [==============================] - 2s 964us/step - loss: 12917.2135\n",
      "Epoch 32/100\n",
      "2382/2382 [==============================] - 2s 945us/step - loss: 8619.6452\n",
      "Epoch 33/100\n",
      "2382/2382 [==============================] - 2s 964us/step - loss: 5941.6014\n",
      "Epoch 34/100\n",
      "2382/2382 [==============================] - 2s 958us/step - loss: 4394.0974\n",
      "Epoch 35/100\n",
      "2382/2382 [==============================] - 2s 1ms/step - loss: 3563.6111\n",
      "Epoch 36/100\n",
      "2382/2382 [==============================] - 2s 958us/step - loss: 3140.1719\n",
      "Epoch 37/100\n",
      "2382/2382 [==============================] - 2s 971us/step - loss: 2921.1950\n",
      "Epoch 38/100\n",
      "2382/2382 [==============================] - 2s 978us/step - loss: 2792.8404\n",
      "Epoch 39/100\n",
      "2382/2382 [==============================] - 2s 958us/step - loss: 2700.4415\n",
      "Epoch 40/100\n",
      "2382/2382 [==============================] - 2s 997us/step - loss: 2621.5383\n",
      "Epoch 41/100\n",
      "2382/2382 [==============================] - 2s 971us/step - loss: 2548.1432\n",
      "Epoch 42/100\n",
      "2382/2382 [==============================] - 2s 1ms/step - loss: 2477.8215\n",
      "Epoch 43/100\n",
      "2382/2382 [==============================] - 3s 1ms/step - loss: 2410.1755\n",
      "Epoch 44/100\n",
      "2382/2382 [==============================] - 2s 971us/step - loss: 2345.5331\n",
      "Epoch 45/100\n",
      "2382/2382 [==============================] - 2s 958us/step - loss: 2284.4802\n",
      "Epoch 46/100\n",
      "2382/2382 [==============================] - 2s 952us/step - loss: 2227.5642\n",
      "Epoch 47/100\n",
      "2382/2382 [==============================] - 2s 951us/step - loss: 2175.1838\n",
      "Epoch 48/100\n",
      "2382/2382 [==============================] - 2s 958us/step - loss: 2127.5378\n",
      "Epoch 49/100\n",
      "2382/2382 [==============================] - 2s 964us/step - loss: 2084.6028\n",
      "Epoch 50/100\n",
      "2382/2382 [==============================] - 2s 958us/step - loss: 2046.1881\n",
      "Epoch 51/100\n",
      "2382/2382 [==============================] - 2s 971us/step - loss: 2011.9466\n",
      "Epoch 52/100\n",
      "2382/2382 [==============================] - 2s 991us/step - loss: 1981.4561\n",
      "Epoch 53/100\n",
      "2382/2382 [==============================] - 3s 1ms/step - loss: 1954.2334\n",
      "Epoch 54/100\n",
      "2382/2382 [==============================] - 2s 1ms/step - loss: 1929.7855\n",
      "Epoch 55/100\n",
      "2382/2382 [==============================] - 2s 1ms/step - loss: 1907.6558\n",
      "Epoch 56/100\n",
      "2382/2382 [==============================] - 2s 1ms/step - loss: 1887.4183\n",
      "Epoch 57/100\n",
      "2382/2382 [==============================] - 2s 1ms/step - loss: 1868.7063\n",
      "Epoch 58/100\n",
      "2382/2382 [==============================] - 2s 1ms/step - loss: 1851.2123\n",
      "Epoch 59/100\n",
      "2382/2382 [==============================] - 2s 986us/step - loss: 1834.6898\n",
      "Epoch 60/100\n",
      "2382/2382 [==============================] - 3s 1ms/step - loss: 1818.9401\n",
      "Epoch 61/100\n",
      "2382/2382 [==============================] - 2s 1ms/step - loss: 1803.8137\n",
      "Epoch 62/100\n",
      "2382/2382 [==============================] - 3s 1ms/step - loss: 1789.1945\n",
      "Epoch 63/100\n",
      "2382/2382 [==============================] - 3s 1ms/step - loss: 1774.9990\n",
      "Epoch 64/100\n",
      "2382/2382 [==============================] - 3s 1ms/step - loss: 1761.1627\n",
      "Epoch 65/100\n",
      "2382/2382 [==============================] - 2s 958us/step - loss: 1747.6406\n",
      "Epoch 66/100\n",
      "2382/2382 [==============================] - 2s 936us/step - loss: 1734.4000\n",
      "Epoch 67/100\n",
      "2382/2382 [==============================] - 3s 1ms/step - loss: 1721.4187\n",
      "Epoch 68/100\n",
      "2382/2382 [==============================] - 3s 1ms/step - loss: 1708.6749\n",
      "Epoch 69/100\n",
      "2382/2382 [==============================] - 2s 997us/step - loss: 1696.1651\n",
      "Epoch 70/100\n",
      "2382/2382 [==============================] - 3s 1ms/step - loss: 1683.8681\n",
      "Epoch 71/100\n",
      "2382/2382 [==============================] - 3s 1ms/step - loss: 1671.7883\n",
      "Epoch 72/100\n",
      "2382/2382 [==============================] - 3s 1ms/step - loss: 1659.9158\n",
      "Epoch 73/100\n",
      "2382/2382 [==============================] - 3s 1ms/step - loss: 1648.2464\n",
      "Epoch 74/100\n",
      "2382/2382 [==============================] - 2s 1ms/step - loss: 1636.7798\n",
      "Epoch 75/100\n",
      "2382/2382 [==============================] - 3s 1ms/step - loss: 1625.5120\n",
      "Epoch 76/100\n",
      "2382/2382 [==============================] - 3s 1ms/step - loss: 1614.4431\n",
      "Epoch 77/100\n",
      "2382/2382 [==============================] - 3s 1ms/step - loss: 1603.5657\n",
      "Epoch 78/100\n",
      "2382/2382 [==============================] - 3s 1ms/step - loss: 1592.8860\n",
      "Epoch 79/100\n",
      "2382/2382 [==============================] - 3s 1ms/step - loss: 1582.3997\n",
      "Epoch 80/100\n",
      "2382/2382 [==============================] - 2s 1ms/step - loss: 1572.1019\n",
      "Epoch 81/100\n",
      "2382/2382 [==============================] - 2s 1ms/step - loss: 1561.9972\n",
      "Epoch 82/100\n",
      "2382/2382 [==============================] - 3s 1ms/step - loss: 1552.0792\n",
      "Epoch 83/100\n",
      "2382/2382 [==============================] - 2s 1ms/step - loss: 1542.3503\n",
      "Epoch 84/100\n",
      "2382/2382 [==============================] - 2s 977us/step - loss: 1532.8084\n",
      "Epoch 85/100\n",
      "2382/2382 [==============================] - 2s 986us/step - loss: 1523.4506\n",
      "Epoch 86/100\n",
      "2382/2382 [==============================] - 2s 977us/step - loss: 1514.2808\n",
      "Epoch 87/100\n",
      "2382/2382 [==============================] - 2s 991us/step - loss: 1505.2913\n",
      "Epoch 88/100\n",
      "2382/2382 [==============================] - 3s 1ms/step - loss: 1496.4852\n",
      "Epoch 89/100\n",
      "2382/2382 [==============================] - 3s 1ms/step - loss: 1487.8617\n",
      "Epoch 90/100\n",
      "2382/2382 [==============================] - 3s 1ms/step - loss: 1479.4182\n",
      "Epoch 91/100\n"
     ]
    },
    {
     "name": "stdout",
     "output_type": "stream",
     "text": [
      "2382/2382 [==============================] - 3s 1ms/step - loss: 1471.1529\n",
      "Epoch 92/100\n",
      "2382/2382 [==============================] - 3s 1ms/step - loss: 1463.0661\n",
      "Epoch 93/100\n",
      "2382/2382 [==============================] - 2s 1ms/step - loss: 1455.1568\n",
      "Epoch 94/100\n",
      "2382/2382 [==============================] - 2s 1ms/step - loss: 1447.4219\n",
      "Epoch 95/100\n",
      "2382/2382 [==============================] - 3s 1ms/step - loss: 1439.8629\n",
      "Epoch 96/100\n",
      "2382/2382 [==============================] - 2s 991us/step - loss: 1432.4761\n",
      "Epoch 97/100\n",
      "2382/2382 [==============================] - 2s 966us/step - loss: 1425.2616\n",
      "Epoch 98/100\n",
      "2382/2382 [==============================] - 2s 991us/step - loss: 1418.2185\n",
      "Epoch 99/100\n",
      "2382/2382 [==============================] - 3s 1ms/step - loss: 1411.3430\n",
      "Epoch 100/100\n",
      "2382/2382 [==============================] - 3s 1ms/step - loss: 1404.6372\n"
     ]
    }
   ],
   "source": [
    "from keras.models import Sequential\n",
    "from keras.layers import Dense\n",
    "import keras.backend as K\n",
    "from keras.callbacks import EarlyStopping\n",
    "from keras.optimizers import Adam\n",
    "from keras.models import load_model\n",
    "from keras.layers import LSTM\n",
    "\n",
    "K.clear_session()\n",
    "\n",
    "model_lstm = Sequential()\n",
    "model_lstm.add(LSTM(16, input_shape=(1, X_train.shape[1]), activation='relu', return_sequences=False))\n",
    "model_lstm.add(Dense(1))\n",
    "\n",
    "model_lstm.compile(loss='mean_squared_error', optimizer='adam')\n",
    "early_stop = EarlyStopping(monitor='loss', patience=5, verbose=1)\n",
    "\n",
    "\n",
    "history_model_lstm = model_lstm.fit(X_tr_t, y_train, epochs=200, batch_size=8, verbose=1, shuffle=False, callbacks=[early_stop])"
   ]
  },
  {
   "cell_type": "code",
   "execution_count": 33,
   "metadata": {},
   "outputs": [
    {
     "name": "stdout",
     "output_type": "stream",
     "text": [
      "The R2 score on the Train set is:\t0.986\n",
      "The R2 score on the Test set is:\t0.860\n"
     ]
    }
   ],
   "source": [
    "y_pred_test_lstm = model_lstm.predict(X_tst_t)\n",
    "y_train_pred_lstm = model_lstm.predict(X_tr_t)\n",
    "\n",
    "print(\"The R2 score on the Train set is:\\t{:0.3f}\".format(r2_score(y_train, y_train_pred_lstm)))\n",
    "r2_train = r2_score(y_train, y_train_pred_lstm)\n",
    "\n",
    "print(\"The R2 score on the Test set is:\\t{:0.3f}\".format(r2_score(y_test, y_pred_test_lstm)))\n",
    "r2_test = r2_score(y_test, y_pred_test_lstm)"
   ]
  },
  {
   "cell_type": "code",
   "execution_count": 35,
   "metadata": {},
   "outputs": [
    {
     "name": "stdout",
     "output_type": "stream",
     "text": [
      "LSTM: 1335.305013\n"
     ]
    }
   ],
   "source": [
    "score_lstm= model_lstm.evaluate(X_tst_t, y_test, batch_size=1, verbose=0)\n",
    "print('LSTM: %f'%score_lstm)"
   ]
  },
  {
   "cell_type": "code",
   "execution_count": 36,
   "metadata": {},
   "outputs": [],
   "source": [
    "y_pred_test_LSTM = model_lstm.predict(X_tst_t)"
   ]
  },
  {
   "cell_type": "code",
   "execution_count": 37,
   "metadata": {},
   "outputs": [
    {
     "data": {
      "image/png": "[encoded data removed]",
      "text/plain": [
       "<Figure size 432x288 with 1 Axes>"
      ]
     },
     "metadata": {
      "needs_background": "light"
     },
     "output_type": "display_data"
    }
   ],
   "source": [
    "plt.plot(y_test, label='True')\n",
    "plt.plot(y_pred_test_LSTM, label='LSTM')\n",
    "plt.title(\"LSTM's_Prediction\")\n",
    "plt.xlabel('Observation')\n",
    "plt.ylabel('INR_Scaled')\n",
    "plt.legend()\n",
    "plt.show()"
   ]
  },
  {
   "cell_type": "code",
   "execution_count": 29,
   "metadata": {},
   "outputs": [],
   "source": [
    "col1 = pd.DataFrame(y_test, columns=['True'])\n",
    "\n",
    "col2 = pd.DataFrame(y_pred_test_LSTM, columns=['LSTM_prediction'])\n",
    "\n",
    "col3 = pd.DataFrame(history_model_lstm.history['loss'], columns=['Loss_LSTM'])\n",
    "results = pd.concat([col1, col2, col3], axis=1)\n",
    "results.to_excel('PredictionResults_LSTM_NonShift.xlsx')"
   ]
  },
  {
   "cell_type": "code",
   "execution_count": null,
   "metadata": {},
   "outputs": [],
   "source": []
  }
 ],
 "metadata": {
  "kernelspec": {
   "display_name": "Python 3",
   "language": "python",
   "name": "python3"
  },
  "language_info": {
   "codemirror_mode": {
    "name": "ipython",
    "version": 3
   },
   "file_extension": ".py",
   "mimetype": "text/x-python",
   "name": "python",
   "nbconvert_exporter": "python",
   "pygments_lexer": "ipython3",
   "version": "3.7.4"
  }
 },
 "nbformat": 4,
 "nbformat_minor": 2
}
