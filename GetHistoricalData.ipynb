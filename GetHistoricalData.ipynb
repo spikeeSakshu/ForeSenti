{
 "cells": [
  {
   "cell_type": "code",
   "execution_count": 21,
   "metadata": {},
   "outputs": [],
   "source": [
    "from datetime import date\n",
    "from nsepy import get_history\n",
    "from datetime import datetime"
   ]
  },
  {
   "cell_type": "code",
   "execution_count": 28,
   "metadata": {},
   "outputs": [],
   "source": [
    "def find_data(symbol, start_date):\n",
    "    \n",
    "    if start_date==0:\n",
    "        start_date='2008-12-5'\n",
    "        filename='Data/'+symbol+'.csv'\n",
    "    else:\n",
    "        filename='Data/'+symbol+'_Week.csv'\n",
    "        \n",
    "    start_date=[int(a) for a in start_date.split('-')]\n",
    "    end_date=str(date.today())\n",
    "    end_date=[int(a) for a in end_date.split('-')]\n",
    "    \n",
    "    data = get_history(symbol=symbol , start=date(start_date[0], start_date[1], start_date[2]), end=date(end_date[0], end_date[1], end_date[2]))\n",
    "    data['Date'] = data.index\n",
    "    data.to_csv(filename)\n",
    "    \n",
    "    return"
   ]
  },
  {
   "cell_type": "code",
   "execution_count": 30,
   "metadata": {},
   "outputs": [],
   "source": [
    "# symbol=\"RELIANCE\"\n",
    "# r=find_data(symbol,0)"
   ]
  },
  {
   "cell_type": "code",
   "execution_count": null,
   "metadata": {},
   "outputs": [],
   "source": []
  }
 ],
 "metadata": {
  "kernelspec": {
   "display_name": "Python 3",
   "language": "python",
   "name": "python3"
  },
  "language_info": {
   "codemirror_mode": {
    "name": "ipython",
    "version": 3
   },
   "file_extension": ".py",
   "mimetype": "text/x-python",
   "name": "python",
   "nbconvert_exporter": "python",
   "pygments_lexer": "ipython3",
   "version": "3.7.4"
  }
 },
 "nbformat": 4,
 "nbformat_minor": 2
}
